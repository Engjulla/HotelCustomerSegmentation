{
 "cells":[
  {
   "cell_type":"markdown",
   "source":[
    "# Problem statement\n",
    "\n",
    "Like most hotels, hotel H, a hotel located in Lisbon, Portugal, a\n",
    "member of the independent hotel chain C, uses a hospitality\n",
    "standard market segmentation based on the origin of the customer.\n",
    "However, A, the new marketing manager of hotel H, recognized\n",
    "that this type of segmentation, as is today well-known (3, 4), is not\n",
    "useful for the hotel marketing department.\n",
    "The name of the individual and the company name is anonymized to\n",
    "protect confidentiality. The referenced data are real."
   ],
   "attachments":{
    
   },
   "metadata":{
    "datalore":{
     "node_id":"0pPUCtvTKfG81kYLknKHgA",
     "type":"MD",
     "hide_input_from_viewers":false,
     "hide_output_from_viewers":false
    }
   }
  },
  {
   "cell_type":"markdown",
   "source":[
    "# Key tasks\n",
    "\n",
    "Explore the data and identify the variables that should be used to\n",
    "segment customers\n",
    "2. Use K-Means clustering to identify customers segments\n",
    "1. Justify your selection of K (taking into consideration the business use)\n",
    "2. Use PCA to reduce dimensionality and speed-up model development\n",
    "3. Suggest business applications for the findings"
   ],
   "attachments":{
    
   },
   "metadata":{
    "datalore":{
     "node_id":"5PvHNc5XJEdi2Mv2UHSQcS",
     "type":"MD",
     "hide_input_from_viewers":false,
     "hide_output_from_viewers":false
    }
   }
  },
  {
   "cell_type":"markdown",
   "source":[
    "# Variables:\n",
    "        \n",
    "- ID: Customer ID\n",
    "- Nationality: Nationality of the customer in ISO 3166-1 (Alpha 3) format\n",
    "- Age: Age of the customer\n",
    "- DaysSinceCreation: Number of elapsed days since the customer was created\n",
    "- NameHash: Hash of the customer name\n",
    "- DocIDHash: Hash of the customer personal document identification number (usually passport or ID card)\n",
    "- AverageLeadTime: Average number of days before arrival date the customer makes bookings\n",
    "- LodgingRevenue: Total amount of lodging revenue paid by the customer so far\n",
    "- OtherRevenue: Total amount of other revenue (e.g., food & beverage, spa, etc.) paid by the customer so far\n",
    "- BookingsCanceled: Number of bookings the customer made but ubsequently canceled\n",
    "- BookingsNoShowed: Number of bookings the customer made but subsequently made a \"no-show\"\n",
    "- BookingsCheckedin: Number of bookings the customer made, which actually ended up staying\n",
    "- PersonNights: Total person\/nights the customer has stayed at the hotel so far.\n",
    "- RoomNights: Total of room\/nights the customer has stayed at the hotel so far.\n",
    "- MarketSegment: Current market segment of the customer\n",
    "- SRHighFloor: Indication if the customer usually asks for a room in a higher floor (0: No, 1: Yes)\n",
    "- SRLowFloor: Indication if the customer usually asks for a room in a lower floor (0: No, 1: Yes)\n",
    "- SRAccessibleRoom: Indication if the customer usually asks for an accessible room (0: No, 1: Yes)\n",
    "- SRMediumFloor: Indication if the customer usually asks for a room in a middle floor (0: No, 1: Yes)\n",
    "- SRBathtub Indication if the customer usually asks for a room with a bathtub (0: No, 1: Yes)\n",
    "- SRShower: Indication if the customer usually asks for a room with a shower (0: No, 1: Yes)\n",
    "- SRCrib: Indication if the customer usually asks for a crib (0: No, 1: Yes)\n",
    "- SRKingSizeBed: Indication if the customer usually asks for a room with a king size bed (0: No, 1: Yes)\n",
    "- SRTwinBed Indication if the customer usually asks for a room with a twin bed (0: No, 1: Yes)\n",
    "- SRNearElevator: Indication if the customer usually asks for a room near the elevator (0: No, 1: Yes)\n",
    "- SRAwayFromElevator: Indication if the customer usually asks for a room away from the elevator (0: No, 1: Yes)\n",
    "- SRNoAlcoholInMiniBar: Indication if the customer usually asks for a room with no alcohol in the mini bar (0: No, 1: Yes)\n",
    "- SRQuietRoom: Indication if the customer usually asks for a room away from the noise (0: No, 1: Yes)"
   ],
   "attachments":{
    
   },
   "metadata":{
    "datalore":{
     "node_id":"Fw6eJlpEN3CqceYMz1ElwC",
     "type":"MD",
     "hide_input_from_viewers":false,
     "hide_output_from_viewers":false
    }
   }
  },
  {
   "cell_type":"markdown",
   "source":[
    "## Importing libraries"
   ],
   "attachments":{
    
   },
   "metadata":{
    "datalore":{
     "node_id":"I1IofLvck26BccsNPSSOZX",
     "type":"MD",
     "hide_input_from_viewers":false,
     "hide_output_from_viewers":false
    }
   }
  },
  {
   "cell_type":"code",
   "source":[
    "import os\n",
    "import csv\n",
    "import math\n",
    "import collections\n",
    "import numpy as np\n",
    "import pandas as pd\n",
    "import seaborn as sns\n",
    "from plotly import tools\n",
    "import plotly.offline as py\n",
    "import category_encoders as ce\n",
    "import plotly.graph_objs as go\n",
    "import matplotlib.pyplot as plt\n",
    "from sklearn import preprocessing\n",
    "from sklearn.cluster import KMeans\n",
    "from sklearn.decomposition import PCA\n",
    "from sklearn.metrics import confusion_matrix\n",
    "from sklearn.preprocessing import LabelEncoder\n",
    "from sklearn.preprocessing import MinMaxScaler\n",
    "from sklearn.preprocessing import StandardScaler\n",
    "from sklearn.neighbors import KNeighborsClassifier\n",
    "from sklearn.model_selection import train_test_split\n",
    "from sklearn.metrics import silhouette_score, silhouette_samples"
   ],
   "execution_count":348,
   "outputs":[
    
   ],
   "metadata":{
    "datalore":{
     "node_id":"swYsJaQXW0iuS8BiPRhdux",
     "type":"CODE",
     "hide_input_from_viewers":false,
     "hide_output_from_viewers":false
    }
   }
  },
  {
   "cell_type":"code",
   "source":[
    "df = pd.read_csv('https:\/\/drive.google.com\/uc?export=download&id=1GvWonf86zpn6TAUu-W57tw9V7lhJpFXq', sep=\";\")"
   ],
   "execution_count":298,
   "outputs":[
    
   ],
   "metadata":{
    "datalore":{
     "node_id":"OPcc2kYpxHIOVuYQssaP0o",
     "type":"CODE",
     "hide_input_from_viewers":false,
     "hide_output_from_viewers":false
    }
   }
  },
  {
   "cell_type":"code",
   "source":[
    "# loading and reading data\n",
    "\n",
    "df.head()"
   ],
   "execution_count":299,
   "outputs":[
    {
     "data":{
      "text\/html":[
       "<div>\n",
       "<style scoped>\n",
       "    .dataframe tbody tr th:only-of-type {\n",
       "        vertical-align: middle;\n",
       "    }\n",
       "\n",
       "    .dataframe tbody tr th {\n",
       "        vertical-align: top;\n",
       "    }\n",
       "\n",
       "    .dataframe thead th {\n",
       "        text-align: right;\n",
       "    }\n",
       "<\/style>\n",
       "<table border=\"1\" class=\"dataframe\">\n",
       "  <thead>\n",
       "    <tr style=\"text-align: right;\">\n",
       "      <th><\/th>\n",
       "      <th>ID<\/th>\n",
       "      <th>Nationality<\/th>\n",
       "      <th>Age<\/th>\n",
       "      <th>DaysSinceCreation<\/th>\n",
       "      <th>NameHash<\/th>\n",
       "      <th>DocIDHash<\/th>\n",
       "      <th>AverageLeadTime<\/th>\n",
       "      <th>LodgingRevenue<\/th>\n",
       "      <th>OtherRevenue<\/th>\n",
       "      <th>BookingsCanceled<\/th>\n",
       "      <th>...<\/th>\n",
       "      <th>SRMediumFloor<\/th>\n",
       "      <th>SRBathtub<\/th>\n",
       "      <th>SRShower<\/th>\n",
       "      <th>SRCrib<\/th>\n",
       "      <th>SRKingSizeBed<\/th>\n",
       "      <th>SRTwinBed<\/th>\n",
       "      <th>SRNearElevator<\/th>\n",
       "      <th>SRAwayFromElevator<\/th>\n",
       "      <th>SRNoAlcoholInMiniBar<\/th>\n",
       "      <th>SRQuietRoom<\/th>\n",
       "    <\/tr>\n",
       "  <\/thead>\n",
       "  <tbody>\n",
       "    <tr>\n",
       "      <th>0<\/th>\n",
       "      <td>1<\/td>\n",
       "      <td>PRT<\/td>\n",
       "      <td>52.0<\/td>\n",
       "      <td>440<\/td>\n",
       "      <td>0x2C371FD6CE12936774A139FD7430C624F1C4D5109CE6...<\/td>\n",
       "      <td>0x434FD3D59469C73AFEA087017FAF8CA2296493AEABDE...<\/td>\n",
       "      <td>59<\/td>\n",
       "      <td>292.0<\/td>\n",
       "      <td>82.3<\/td>\n",
       "      <td>1<\/td>\n",
       "      <td>...<\/td>\n",
       "      <td>0<\/td>\n",
       "      <td>0<\/td>\n",
       "      <td>0<\/td>\n",
       "      <td>0<\/td>\n",
       "      <td>0<\/td>\n",
       "      <td>0<\/td>\n",
       "      <td>0<\/td>\n",
       "      <td>0<\/td>\n",
       "      <td>0<\/td>\n",
       "      <td>0<\/td>\n",
       "    <\/tr>\n",
       "    <tr>\n",
       "      <th>1<\/th>\n",
       "      <td>2<\/td>\n",
       "      <td>PRT<\/td>\n",
       "      <td>NaN<\/td>\n",
       "      <td>1385<\/td>\n",
       "      <td>0x198CDB98BF37B6E23F9548C56A88B00912D65A9AA0D6...<\/td>\n",
       "      <td>0xE3B0C44298FC1C149AFBF4C8996FB92427AE41E4649B...<\/td>\n",
       "      <td>61<\/td>\n",
       "      <td>280.0<\/td>\n",
       "      <td>53.0<\/td>\n",
       "      <td>0<\/td>\n",
       "      <td>...<\/td>\n",
       "      <td>0<\/td>\n",
       "      <td>0<\/td>\n",
       "      <td>0<\/td>\n",
       "      <td>0<\/td>\n",
       "      <td>0<\/td>\n",
       "      <td>0<\/td>\n",
       "      <td>0<\/td>\n",
       "      <td>0<\/td>\n",
       "      <td>0<\/td>\n",
       "      <td>0<\/td>\n",
       "    <\/tr>\n",
       "    <tr>\n",
       "      <th>2<\/th>\n",
       "      <td>3<\/td>\n",
       "      <td>DEU<\/td>\n",
       "      <td>32.0<\/td>\n",
       "      <td>1385<\/td>\n",
       "      <td>0xDA46E62F66936284DF2844EC4FC542D0DAD780C0EE0C...<\/td>\n",
       "      <td>0x27F5DF762CCDA622C752CCDA45794923BED9F1B66300...<\/td>\n",
       "      <td>0<\/td>\n",
       "      <td>0.0<\/td>\n",
       "      <td>0.0<\/td>\n",
       "      <td>0<\/td>\n",
       "      <td>...<\/td>\n",
       "      <td>0<\/td>\n",
       "      <td>0<\/td>\n",
       "      <td>0<\/td>\n",
       "      <td>0<\/td>\n",
       "      <td>0<\/td>\n",
       "      <td>0<\/td>\n",
       "      <td>0<\/td>\n",
       "      <td>0<\/td>\n",
       "      <td>0<\/td>\n",
       "      <td>0<\/td>\n",
       "    <\/tr>\n",
       "    <tr>\n",
       "      <th>3<\/th>\n",
       "      <td>4<\/td>\n",
       "      <td>FRA<\/td>\n",
       "      <td>61.0<\/td>\n",
       "      <td>1385<\/td>\n",
       "      <td>0xC45D4CD22C58FDC5FD0F95315F6EFA5A6E7149187D49...<\/td>\n",
       "      <td>0x8E59572913BB9B1E6CAA12FA2C8B7BF387B1D1F3432E...<\/td>\n",
       "      <td>93<\/td>\n",
       "      <td>240.0<\/td>\n",
       "      <td>60.0<\/td>\n",
       "      <td>0<\/td>\n",
       "      <td>...<\/td>\n",
       "      <td>0<\/td>\n",
       "      <td>0<\/td>\n",
       "      <td>0<\/td>\n",
       "      <td>0<\/td>\n",
       "      <td>0<\/td>\n",
       "      <td>0<\/td>\n",
       "      <td>0<\/td>\n",
       "      <td>0<\/td>\n",
       "      <td>0<\/td>\n",
       "      <td>0<\/td>\n",
       "    <\/tr>\n",
       "    <tr>\n",
       "      <th>4<\/th>\n",
       "      <td>5<\/td>\n",
       "      <td>FRA<\/td>\n",
       "      <td>52.0<\/td>\n",
       "      <td>1385<\/td>\n",
       "      <td>0xD2E3D5BFCA141865669F98D64CDA85AD04DEFF47F8A0...<\/td>\n",
       "      <td>0x42BDEE0E05A9441C94147076EDDCC47E604DA5447DD4...<\/td>\n",
       "      <td>0<\/td>\n",
       "      <td>0.0<\/td>\n",
       "      <td>0.0<\/td>\n",
       "      <td>0<\/td>\n",
       "      <td>...<\/td>\n",
       "      <td>0<\/td>\n",
       "      <td>0<\/td>\n",
       "      <td>0<\/td>\n",
       "      <td>0<\/td>\n",
       "      <td>0<\/td>\n",
       "      <td>0<\/td>\n",
       "      <td>0<\/td>\n",
       "      <td>0<\/td>\n",
       "      <td>0<\/td>\n",
       "      <td>0<\/td>\n",
       "    <\/tr>\n",
       "  <\/tbody>\n",
       "<\/table>\n",
       "<p>5 rows × 29 columns<\/p>\n",
       "<\/div>"
      ]
     },
     "metadata":{
      
     },
     "output_type":"display_data"
    }
   ],
   "metadata":{
    "datalore":{
     "node_id":"vDApk5lZ1Bir788A8YNXo1",
     "type":"CODE",
     "hide_input_from_viewers":false,
     "hide_output_from_viewers":false
    }
   }
  },
  {
   "cell_type":"code",
   "source":[
    "# getting data info\n",
    "\n",
    "df.info()"
   ],
   "execution_count":300,
   "outputs":[
    {
     "name":"stdout",
     "text":[
      "<class 'pandas.core.frame.DataFrame'>\n",
      "RangeIndex: 111733 entries, 0 to 111732\n",
      "Data columns (total 29 columns):\n",
      " #   Column                Non-Null Count   Dtype  \n",
      "---  ------                --------------   -----  \n",
      " 0   ID                    111733 non-null  int64  \n",
      " 1   Nationality           111733 non-null  object \n",
      " 2   Age                   107561 non-null  float64\n",
      " 3   DaysSinceCreation     111733 non-null  int64  \n",
      " 4   NameHash              111733 non-null  object \n",
      " 5   DocIDHash             110732 non-null  object \n",
      " 6   AverageLeadTime       111733 non-null  int64  \n",
      " 7   LodgingRevenue        111733 non-null  float64\n",
      " 8   OtherRevenue          111733 non-null  float64\n",
      " 9   BookingsCanceled      111733 non-null  int64  \n",
      " 10  BookingsNoShowed      111733 non-null  int64  \n",
      " 11  BookingsCheckedIn     111733 non-null  int64  \n",
      " 12  PersonsNights         111733 non-null  int64  \n",
      " 13  RoomNights            111733 non-null  int64  \n",
      " 14  DistributionChannel   111733 non-null  object \n",
      " 15  MarketSegment         111733 non-null  object \n",
      " 16  SRHighFloor           111733 non-null  int64  \n",
      " 17  SRLowFloor            111733 non-null  int64  \n",
      " 18  SRAccessibleRoom      111733 non-null  int64  \n",
      " 19  SRMediumFloor         111733 non-null  int64  \n",
      " 20  SRBathtub             111733 non-null  int64  \n",
      " 21  SRShower              111733 non-null  int64  \n",
      " 22  SRCrib                111733 non-null  int64  \n",
      " 23  SRKingSizeBed         111733 non-null  int64  \n",
      " 24  SRTwinBed             111733 non-null  int64  \n",
      " 25  SRNearElevator        111733 non-null  int64  \n",
      " 26  SRAwayFromElevator    111733 non-null  int64  \n",
      " 27  SRNoAlcoholInMiniBar  111733 non-null  int64  \n",
      " 28  SRQuietRoom           111733 non-null  int64  \n",
      "dtypes: float64(3), int64(21), object(5)\n",
      "memory usage: 24.7+ MB\n"
     ],
     "output_type":"stream"
    }
   ],
   "metadata":{
    "datalore":{
     "node_id":"LzYtzHJ7uYqDbXPZHSxMcU",
     "type":"CODE",
     "hide_input_from_viewers":false,
     "hide_output_from_viewers":false
    }
   }
  },
  {
   "cell_type":"code",
   "source":[
    "# checking the missing values\n",
    "\n",
    "df.isna().sum()"
   ],
   "execution_count":301,
   "outputs":[
    {
     "data":{
      "text\/html":[
       "<pre>ID                         0\n",
       "Nationality                0\n",
       "Age                     4172\n",
       "DaysSinceCreation          0\n",
       "NameHash                   0\n",
       "DocIDHash               1001\n",
       "AverageLeadTime            0\n",
       "LodgingRevenue             0\n",
       "OtherRevenue               0\n",
       "BookingsCanceled           0\n",
       "BookingsNoShowed           0\n",
       "BookingsCheckedIn          0\n",
       "PersonsNights              0\n",
       "RoomNights                 0\n",
       "DistributionChannel        0\n",
       "MarketSegment              0\n",
       "SRHighFloor                0\n",
       "SRLowFloor                 0\n",
       "SRAccessibleRoom           0\n",
       "SRMediumFloor              0\n",
       "SRBathtub                  0\n",
       "SRShower                   0\n",
       "SRCrib                     0\n",
       "SRKingSizeBed              0\n",
       "SRTwinBed                  0\n",
       "SRNearElevator             0\n",
       "SRAwayFromElevator         0\n",
       "SRNoAlcoholInMiniBar       0\n",
       "SRQuietRoom                0\n",
       "dtype: int64<\/pre>"
      ]
     },
     "metadata":{
      
     },
     "output_type":"display_data"
    }
   ],
   "metadata":{
    "datalore":{
     "node_id":"S28jjoAJS5ATICazeERpS6",
     "type":"CODE",
     "hide_input_from_viewers":false,
     "hide_output_from_viewers":false
    }
   }
  },
  {
   "cell_type":"markdown",
   "source":[
    "As we can see, 3779 values missing in 'Age' column. So we will have to deal with this later in a clustering part.\n",
    "\n",
    "Let's now create a couple of new variables to better describe our dataset:\n",
    "\n",
    "- total_revenue - a total amount spent by a customer on lodging and other expenses such as food, spa etc.\n",
    "- age_group - one of age groups from '0-20', '21-40', '41-60', '60+', with missing and inappropriate values labeled as 'Unknown'"
   ],
   "attachments":{
    
   },
   "metadata":{
    "datalore":{
     "node_id":"SxGbEjXpjBFzVpU1QvTt8m",
     "type":"MD",
     "hide_input_from_viewers":false,
     "hide_output_from_viewers":false
    }
   }
  },
  {
   "cell_type":"code",
   "source":[
    "df['total_revenue'] = df['LodgingRevenue'] + df['OtherRevenue']\n",
    "df['age_group'] = pd.cut(df['Age'], bins=[-1, 20, 40, 60, 125], labels=['0-20', '21-40', '41-60', '60+'])\n",
    "df['age_group'] = df['age_group'].cat.add_categories('Unknown')\n",
    "df['age_group'].fillna('Unknown', inplace=True)\n",
    "\n",
    "avg_by_age = df.groupby('age_group').mean()\n",
    "sum_by_age = df.groupby('age_group').sum()\n",
    "avg_by_nat = df.groupby('Nationality').mean()\n",
    "avg_by_age"
   ],
   "execution_count":302,
   "outputs":[
    {
     "data":{
      "text\/html":[
       "<div>\n",
       "<style scoped>\n",
       "    .dataframe tbody tr th:only-of-type {\n",
       "        vertical-align: middle;\n",
       "    }\n",
       "\n",
       "    .dataframe tbody tr th {\n",
       "        vertical-align: top;\n",
       "    }\n",
       "\n",
       "    .dataframe thead th {\n",
       "        text-align: right;\n",
       "    }\n",
       "<\/style>\n",
       "<table border=\"1\" class=\"dataframe\">\n",
       "  <thead>\n",
       "    <tr style=\"text-align: right;\">\n",
       "      <th><\/th>\n",
       "      <th>ID<\/th>\n",
       "      <th>Age<\/th>\n",
       "      <th>DaysSinceCreation<\/th>\n",
       "      <th>AverageLeadTime<\/th>\n",
       "      <th>LodgingRevenue<\/th>\n",
       "      <th>OtherRevenue<\/th>\n",
       "      <th>BookingsCanceled<\/th>\n",
       "      <th>BookingsNoShowed<\/th>\n",
       "      <th>BookingsCheckedIn<\/th>\n",
       "      <th>PersonsNights<\/th>\n",
       "      <th>...<\/th>\n",
       "      <th>SRBathtub<\/th>\n",
       "      <th>SRShower<\/th>\n",
       "      <th>SRCrib<\/th>\n",
       "      <th>SRKingSizeBed<\/th>\n",
       "      <th>SRTwinBed<\/th>\n",
       "      <th>SRNearElevator<\/th>\n",
       "      <th>SRAwayFromElevator<\/th>\n",
       "      <th>SRNoAlcoholInMiniBar<\/th>\n",
       "      <th>SRQuietRoom<\/th>\n",
       "      <th>total_revenue<\/th>\n",
       "    <\/tr>\n",
       "    <tr>\n",
       "      <th>age_group<\/th>\n",
       "      <th><\/th>\n",
       "      <th><\/th>\n",
       "      <th><\/th>\n",
       "      <th><\/th>\n",
       "      <th><\/th>\n",
       "      <th><\/th>\n",
       "      <th><\/th>\n",
       "      <th><\/th>\n",
       "      <th><\/th>\n",
       "      <th><\/th>\n",
       "      <th><\/th>\n",
       "      <th><\/th>\n",
       "      <th><\/th>\n",
       "      <th><\/th>\n",
       "      <th><\/th>\n",
       "      <th><\/th>\n",
       "      <th><\/th>\n",
       "      <th><\/th>\n",
       "      <th><\/th>\n",
       "      <th><\/th>\n",
       "      <th><\/th>\n",
       "    <\/tr>\n",
       "  <\/thead>\n",
       "  <tbody>\n",
       "    <tr>\n",
       "      <th>0-20<\/th>\n",
       "      <td>73689.216389<\/td>\n",
       "      <td>12.451519<\/td>\n",
       "      <td>390.852636<\/td>\n",
       "      <td>21.422768<\/td>\n",
       "      <td>143.489718<\/td>\n",
       "      <td>28.598751<\/td>\n",
       "      <td>0.000000<\/td>\n",
       "      <td>0.000000<\/td>\n",
       "      <td>0.216738<\/td>\n",
       "      <td>1.636364<\/td>\n",
       "      <td>...<\/td>\n",
       "      <td>0.004423<\/td>\n",
       "      <td>0.001048<\/td>\n",
       "      <td>0.063438<\/td>\n",
       "      <td>0.360028<\/td>\n",
       "      <td>0.177744<\/td>\n",
       "      <td>0.000000<\/td>\n",
       "      <td>0.003608<\/td>\n",
       "      <td>0.000582<\/td>\n",
       "      <td>0.099174<\/td>\n",
       "      <td>172.088469<\/td>\n",
       "    <\/tr>\n",
       "    <tr>\n",
       "      <th>21-40<\/th>\n",
       "      <td>57259.266860<\/td>\n",
       "      <td>31.902744<\/td>\n",
       "      <td>577.958685<\/td>\n",
       "      <td>47.723108<\/td>\n",
       "      <td>284.752687<\/td>\n",
       "      <td>54.755854<\/td>\n",
       "      <td>0.000688<\/td>\n",
       "      <td>0.000156<\/td>\n",
       "      <td>0.738077<\/td>\n",
       "      <td>4.236921<\/td>\n",
       "      <td>...<\/td>\n",
       "      <td>0.004844<\/td>\n",
       "      <td>0.001656<\/td>\n",
       "      <td>0.028033<\/td>\n",
       "      <td>0.384524<\/td>\n",
       "      <td>0.154291<\/td>\n",
       "      <td>0.000188<\/td>\n",
       "      <td>0.002469<\/td>\n",
       "      <td>0.000281<\/td>\n",
       "      <td>0.073567<\/td>\n",
       "      <td>339.508541<\/td>\n",
       "    <\/tr>\n",
       "    <tr>\n",
       "      <th>41-60<\/th>\n",
       "      <td>53951.424697<\/td>\n",
       "      <td>50.436632<\/td>\n",
       "      <td>615.258792<\/td>\n",
       "      <td>61.297081<\/td>\n",
       "      <td>323.106263<\/td>\n",
       "      <td>71.552831<\/td>\n",
       "      <td>0.003890<\/td>\n",
       "      <td>0.001033<\/td>\n",
       "      <td>0.815962<\/td>\n",
       "      <td>4.933291<\/td>\n",
       "      <td>...<\/td>\n",
       "      <td>0.002418<\/td>\n",
       "      <td>0.001341<\/td>\n",
       "      <td>0.006110<\/td>\n",
       "      <td>0.367659<\/td>\n",
       "      <td>0.126165<\/td>\n",
       "      <td>0.000308<\/td>\n",
       "      <td>0.004396<\/td>\n",
       "      <td>0.000176<\/td>\n",
       "      <td>0.102251<\/td>\n",
       "      <td>394.659094<\/td>\n",
       "    <\/tr>\n",
       "    <tr>\n",
       "      <th>60+<\/th>\n",
       "      <td>54475.073386<\/td>\n",
       "      <td>69.268568<\/td>\n",
       "      <td>613.880626<\/td>\n",
       "      <td>97.321871<\/td>\n",
       "      <td>269.022410<\/td>\n",
       "      <td>81.106187<\/td>\n",
       "      <td>0.001258<\/td>\n",
       "      <td>0.000326<\/td>\n",
       "      <td>0.770478<\/td>\n",
       "      <td>4.442783<\/td>\n",
       "      <td>...<\/td>\n",
       "      <td>0.001817<\/td>\n",
       "      <td>0.002702<\/td>\n",
       "      <td>0.001817<\/td>\n",
       "      <td>0.345261<\/td>\n",
       "      <td>0.224863<\/td>\n",
       "      <td>0.000792<\/td>\n",
       "      <td>0.003867<\/td>\n",
       "      <td>0.000000<\/td>\n",
       "      <td>0.083590<\/td>\n",
       "      <td>350.128597<\/td>\n",
       "    <\/tr>\n",
       "    <tr>\n",
       "      <th>Unknown<\/th>\n",
       "      <td>36603.771859<\/td>\n",
       "      <td>-7.500000<\/td>\n",
       "      <td>827.962255<\/td>\n",
       "      <td>49.806259<\/td>\n",
       "      <td>214.409281<\/td>\n",
       "      <td>55.748989<\/td>\n",
       "      <td>0.006928<\/td>\n",
       "      <td>0.001911<\/td>\n",
       "      <td>0.782848<\/td>\n",
       "      <td>3.389632<\/td>\n",
       "      <td>...<\/td>\n",
       "      <td>0.001911<\/td>\n",
       "      <td>0.000239<\/td>\n",
       "      <td>0.011706<\/td>\n",
       "      <td>0.252031<\/td>\n",
       "      <td>0.117296<\/td>\n",
       "      <td>0.000000<\/td>\n",
       "      <td>0.002150<\/td>\n",
       "      <td>0.000000<\/td>\n",
       "      <td>0.035595<\/td>\n",
       "      <td>270.158270<\/td>\n",
       "    <\/tr>\n",
       "  <\/tbody>\n",
       "<\/table>\n",
       "<p>5 rows × 25 columns<\/p>\n",
       "<\/div>"
      ]
     },
     "metadata":{
      
     },
     "output_type":"display_data"
    }
   ],
   "metadata":{
    "datalore":{
     "node_id":"IlytDsqYVTnFyGXiX4VBB5",
     "type":"CODE",
     "hide_input_from_viewers":false,
     "hide_output_from_viewers":false
    }
   }
  },
  {
   "cell_type":"code",
   "source":[
    "# verifying how many null entries exist\n",
    "\n",
    "for c in df.columns:\n",
    "    if df[c].isna().sum()!=0:\n",
    "        print(\"%s:\" % c, df[c].isna().sum())"
   ],
   "execution_count":303,
   "outputs":[
    {
     "name":"stdout",
     "text":[
      "Age: 4172\n",
      "DocIDHash: 1001\n"
     ],
     "output_type":"stream"
    }
   ],
   "metadata":{
    "datalore":{
     "node_id":"szWAd8pervLJS0BCOhRFEh",
     "type":"CODE",
     "hide_input_from_viewers":false,
     "hide_output_from_viewers":false
    }
   }
  },
  {
   "cell_type":"code",
   "source":[
    "# getting summary statistics for all variables\n",
    "\n",
    "summary=df.describe(include='all')\n",
    "summary=summary.transpose()\n",
    "summary.head(len(summary))"
   ],
   "execution_count":304,
   "outputs":[
    {
     "data":{
      "text\/html":[
       "<div>\n",
       "<style scoped>\n",
       "    .dataframe tbody tr th:only-of-type {\n",
       "        vertical-align: middle;\n",
       "    }\n",
       "\n",
       "    .dataframe tbody tr th {\n",
       "        vertical-align: top;\n",
       "    }\n",
       "\n",
       "    .dataframe thead th {\n",
       "        text-align: right;\n",
       "    }\n",
       "<\/style>\n",
       "<table border=\"1\" class=\"dataframe\">\n",
       "  <thead>\n",
       "    <tr style=\"text-align: right;\">\n",
       "      <th><\/th>\n",
       "      <th>count<\/th>\n",
       "      <th>unique<\/th>\n",
       "      <th>top<\/th>\n",
       "      <th>freq<\/th>\n",
       "      <th>mean<\/th>\n",
       "      <th>std<\/th>\n",
       "      <th>min<\/th>\n",
       "      <th>25%<\/th>\n",
       "      <th>50%<\/th>\n",
       "      <th>75%<\/th>\n",
       "      <th>max<\/th>\n",
       "    <\/tr>\n",
       "  <\/thead>\n",
       "  <tbody>\n",
       "    <tr>\n",
       "      <th>ID<\/th>\n",
       "      <td>111733.0<\/td>\n",
       "      <td>NaN<\/td>\n",
       "      <td>NaN<\/td>\n",
       "      <td>NaN<\/td>\n",
       "      <td>55867.0<\/td>\n",
       "      <td>32254.683151<\/td>\n",
       "      <td>1.0<\/td>\n",
       "      <td>27934.0<\/td>\n",
       "      <td>55867.0<\/td>\n",
       "      <td>83800.0<\/td>\n",
       "      <td>111733.0<\/td>\n",
       "    <\/tr>\n",
       "    <tr>\n",
       "      <th>Nationality<\/th>\n",
       "      <td>111733<\/td>\n",
       "      <td>199<\/td>\n",
       "      <td>FRA<\/td>\n",
       "      <td>16516<\/td>\n",
       "      <td>NaN<\/td>\n",
       "      <td>NaN<\/td>\n",
       "      <td>NaN<\/td>\n",
       "      <td>NaN<\/td>\n",
       "      <td>NaN<\/td>\n",
       "      <td>NaN<\/td>\n",
       "      <td>NaN<\/td>\n",
       "    <\/tr>\n",
       "    <tr>\n",
       "      <th>Age<\/th>\n",
       "      <td>107561.0<\/td>\n",
       "      <td>NaN<\/td>\n",
       "      <td>NaN<\/td>\n",
       "      <td>NaN<\/td>\n",
       "      <td>45.639191<\/td>\n",
       "      <td>17.244952<\/td>\n",
       "      <td>-10.0<\/td>\n",
       "      <td>33.0<\/td>\n",
       "      <td>47.0<\/td>\n",
       "      <td>58.0<\/td>\n",
       "      <td>123.0<\/td>\n",
       "    <\/tr>\n",
       "    <tr>\n",
       "      <th>DaysSinceCreation<\/th>\n",
       "      <td>111733.0<\/td>\n",
       "      <td>NaN<\/td>\n",
       "      <td>NaN<\/td>\n",
       "      <td>NaN<\/td>\n",
       "      <td>595.026599<\/td>\n",
       "      <td>374.657382<\/td>\n",
       "      <td>36.0<\/td>\n",
       "      <td>288.0<\/td>\n",
       "      <td>522.0<\/td>\n",
       "      <td>889.0<\/td>\n",
       "      <td>1385.0<\/td>\n",
       "    <\/tr>\n",
       "    <tr>\n",
       "      <th>NameHash<\/th>\n",
       "      <td>111733<\/td>\n",
       "      <td>107584<\/td>\n",
       "      <td>0x15A713CE687991691A18F6CDC56ABE24979C73CF5D51...<\/td>\n",
       "      <td>75<\/td>\n",
       "      <td>NaN<\/td>\n",
       "      <td>NaN<\/td>\n",
       "      <td>NaN<\/td>\n",
       "      <td>NaN<\/td>\n",
       "      <td>NaN<\/td>\n",
       "      <td>NaN<\/td>\n",
       "      <td>NaN<\/td>\n",
       "    <\/tr>\n",
       "    <tr>\n",
       "      <th>DocIDHash<\/th>\n",
       "      <td>110732<\/td>\n",
       "      <td>103480<\/td>\n",
       "      <td>0xE3B0C44298FC1C149AFBF4C8996FB92427AE41E4649B...<\/td>\n",
       "      <td>3032<\/td>\n",
       "      <td>NaN<\/td>\n",
       "      <td>NaN<\/td>\n",
       "      <td>NaN<\/td>\n",
       "      <td>NaN<\/td>\n",
       "      <td>NaN<\/td>\n",
       "      <td>NaN<\/td>\n",
       "      <td>NaN<\/td>\n",
       "    <\/tr>\n",
       "    <tr>\n",
       "      <th>AverageLeadTime<\/th>\n",
       "      <td>111733.0<\/td>\n",
       "      <td>NaN<\/td>\n",
       "      <td>NaN<\/td>\n",
       "      <td>NaN<\/td>\n",
       "      <td>60.833147<\/td>\n",
       "      <td>85.11532<\/td>\n",
       "      <td>-1.0<\/td>\n",
       "      <td>0.0<\/td>\n",
       "      <td>21.0<\/td>\n",
       "      <td>95.0<\/td>\n",
       "      <td>588.0<\/td>\n",
       "    <\/tr>\n",
       "    <tr>\n",
       "      <th>LodgingRevenue<\/th>\n",
       "      <td>111733.0<\/td>\n",
       "      <td>NaN<\/td>\n",
       "      <td>NaN<\/td>\n",
       "      <td>NaN<\/td>\n",
       "      <td>283.851283<\/td>\n",
       "      <td>379.131556<\/td>\n",
       "      <td>0.0<\/td>\n",
       "      <td>0.0<\/td>\n",
       "      <td>208.0<\/td>\n",
       "      <td>393.3<\/td>\n",
       "      <td>21781.0<\/td>\n",
       "    <\/tr>\n",
       "    <tr>\n",
       "      <th>OtherRevenue<\/th>\n",
       "      <td>111733.0<\/td>\n",
       "      <td>NaN<\/td>\n",
       "      <td>NaN<\/td>\n",
       "      <td>NaN<\/td>\n",
       "      <td>64.682802<\/td>\n",
       "      <td>123.580715<\/td>\n",
       "      <td>0.0<\/td>\n",
       "      <td>0.0<\/td>\n",
       "      <td>31.0<\/td>\n",
       "      <td>84.0<\/td>\n",
       "      <td>8859.25<\/td>\n",
       "    <\/tr>\n",
       "    <tr>\n",
       "      <th>BookingsCanceled<\/th>\n",
       "      <td>111733.0<\/td>\n",
       "      <td>NaN<\/td>\n",
       "      <td>NaN<\/td>\n",
       "      <td>NaN<\/td>\n",
       "      <td>0.002282<\/td>\n",
       "      <td>0.080631<\/td>\n",
       "      <td>0.0<\/td>\n",
       "      <td>0.0<\/td>\n",
       "      <td>0.0<\/td>\n",
       "      <td>0.0<\/td>\n",
       "      <td>15.0<\/td>\n",
       "    <\/tr>\n",
       "    <tr>\n",
       "      <th>BookingsNoShowed<\/th>\n",
       "      <td>111733.0<\/td>\n",
       "      <td>NaN<\/td>\n",
       "      <td>NaN<\/td>\n",
       "      <td>NaN<\/td>\n",
       "      <td>0.0006<\/td>\n",
       "      <td>0.028217<\/td>\n",
       "      <td>0.0<\/td>\n",
       "      <td>0.0<\/td>\n",
       "      <td>0.0<\/td>\n",
       "      <td>0.0<\/td>\n",
       "      <td>3.0<\/td>\n",
       "    <\/tr>\n",
       "    <tr>\n",
       "      <th>BookingsCheckedIn<\/th>\n",
       "      <td>111733.0<\/td>\n",
       "      <td>NaN<\/td>\n",
       "      <td>NaN<\/td>\n",
       "      <td>NaN<\/td>\n",
       "      <td>0.737607<\/td>\n",
       "      <td>0.730889<\/td>\n",
       "      <td>0.0<\/td>\n",
       "      <td>0.0<\/td>\n",
       "      <td>1.0<\/td>\n",
       "      <td>1.0<\/td>\n",
       "      <td>76.0<\/td>\n",
       "    <\/tr>\n",
       "    <tr>\n",
       "      <th>PersonsNights<\/th>\n",
       "      <td>111733.0<\/td>\n",
       "      <td>NaN<\/td>\n",
       "      <td>NaN<\/td>\n",
       "      <td>NaN<\/td>\n",
       "      <td>4.328318<\/td>\n",
       "      <td>4.630739<\/td>\n",
       "      <td>0.0<\/td>\n",
       "      <td>0.0<\/td>\n",
       "      <td>4.0<\/td>\n",
       "      <td>6.0<\/td>\n",
       "      <td>116.0<\/td>\n",
       "    <\/tr>\n",
       "    <tr>\n",
       "      <th>RoomNights<\/th>\n",
       "      <td>111733.0<\/td>\n",
       "      <td>NaN<\/td>\n",
       "      <td>NaN<\/td>\n",
       "      <td>NaN<\/td>\n",
       "      <td>2.203825<\/td>\n",
       "      <td>2.301637<\/td>\n",
       "      <td>0.0<\/td>\n",
       "      <td>0.0<\/td>\n",
       "      <td>2.0<\/td>\n",
       "      <td>3.0<\/td>\n",
       "      <td>185.0<\/td>\n",
       "    <\/tr>\n",
       "    <tr>\n",
       "      <th>DistributionChannel<\/th>\n",
       "      <td>111733<\/td>\n",
       "      <td>4<\/td>\n",
       "      <td>Travel Agent\/Operator<\/td>\n",
       "      <td>91019<\/td>\n",
       "      <td>NaN<\/td>\n",
       "      <td>NaN<\/td>\n",
       "      <td>NaN<\/td>\n",
       "      <td>NaN<\/td>\n",
       "      <td>NaN<\/td>\n",
       "      <td>NaN<\/td>\n",
       "      <td>NaN<\/td>\n",
       "    <\/tr>\n",
       "    <tr>\n",
       "      <th>MarketSegment<\/th>\n",
       "      <td>111733<\/td>\n",
       "      <td>7<\/td>\n",
       "      <td>Other<\/td>\n",
       "      <td>63680<\/td>\n",
       "      <td>NaN<\/td>\n",
       "      <td>NaN<\/td>\n",
       "      <td>NaN<\/td>\n",
       "      <td>NaN<\/td>\n",
       "      <td>NaN<\/td>\n",
       "      <td>NaN<\/td>\n",
       "      <td>NaN<\/td>\n",
       "    <\/tr>\n",
       "    <tr>\n",
       "      <th>SRHighFloor<\/th>\n",
       "      <td>111733.0<\/td>\n",
       "      <td>NaN<\/td>\n",
       "      <td>NaN<\/td>\n",
       "      <td>NaN<\/td>\n",
       "      <td>0.042512<\/td>\n",
       "      <td>0.201755<\/td>\n",
       "      <td>0.0<\/td>\n",
       "      <td>0.0<\/td>\n",
       "      <td>0.0<\/td>\n",
       "      <td>0.0<\/td>\n",
       "      <td>1.0<\/td>\n",
       "    <\/tr>\n",
       "    <tr>\n",
       "      <th>SRLowFloor<\/th>\n",
       "      <td>111733.0<\/td>\n",
       "      <td>NaN<\/td>\n",
       "      <td>NaN<\/td>\n",
       "      <td>NaN<\/td>\n",
       "      <td>0.001307<\/td>\n",
       "      <td>0.036125<\/td>\n",
       "      <td>0.0<\/td>\n",
       "      <td>0.0<\/td>\n",
       "      <td>0.0<\/td>\n",
       "      <td>0.0<\/td>\n",
       "      <td>1.0<\/td>\n",
       "    <\/tr>\n",
       "    <tr>\n",
       "      <th>SRAccessibleRoom<\/th>\n",
       "      <td>111733.0<\/td>\n",
       "      <td>NaN<\/td>\n",
       "      <td>NaN<\/td>\n",
       "      <td>NaN<\/td>\n",
       "      <td>0.000224<\/td>\n",
       "      <td>0.014957<\/td>\n",
       "      <td>0.0<\/td>\n",
       "      <td>0.0<\/td>\n",
       "      <td>0.0<\/td>\n",
       "      <td>0.0<\/td>\n",
       "      <td>1.0<\/td>\n",
       "    <\/tr>\n",
       "    <tr>\n",
       "      <th>SRMediumFloor<\/th>\n",
       "      <td>111733.0<\/td>\n",
       "      <td>NaN<\/td>\n",
       "      <td>NaN<\/td>\n",
       "      <td>NaN<\/td>\n",
       "      <td>0.00077<\/td>\n",
       "      <td>0.027733<\/td>\n",
       "      <td>0.0<\/td>\n",
       "      <td>0.0<\/td>\n",
       "      <td>0.0<\/td>\n",
       "      <td>0.0<\/td>\n",
       "      <td>1.0<\/td>\n",
       "    <\/tr>\n",
       "    <tr>\n",
       "      <th>SRBathtub<\/th>\n",
       "      <td>111733.0<\/td>\n",
       "      <td>NaN<\/td>\n",
       "      <td>NaN<\/td>\n",
       "      <td>NaN<\/td>\n",
       "      <td>0.003132<\/td>\n",
       "      <td>0.055881<\/td>\n",
       "      <td>0.0<\/td>\n",
       "      <td>0.0<\/td>\n",
       "      <td>0.0<\/td>\n",
       "      <td>0.0<\/td>\n",
       "      <td>1.0<\/td>\n",
       "    <\/tr>\n",
       "    <tr>\n",
       "      <th>SRShower<\/th>\n",
       "      <td>111733.0<\/td>\n",
       "      <td>NaN<\/td>\n",
       "      <td>NaN<\/td>\n",
       "      <td>NaN<\/td>\n",
       "      <td>0.001629<\/td>\n",
       "      <td>0.040327<\/td>\n",
       "      <td>0.0<\/td>\n",
       "      <td>0.0<\/td>\n",
       "      <td>0.0<\/td>\n",
       "      <td>0.0<\/td>\n",
       "      <td>1.0<\/td>\n",
       "    <\/tr>\n",
       "    <tr>\n",
       "      <th>SRCrib<\/th>\n",
       "      <td>111733.0<\/td>\n",
       "      <td>NaN<\/td>\n",
       "      <td>NaN<\/td>\n",
       "      <td>NaN<\/td>\n",
       "      <td>0.016181<\/td>\n",
       "      <td>0.126173<\/td>\n",
       "      <td>0.0<\/td>\n",
       "      <td>0.0<\/td>\n",
       "      <td>0.0<\/td>\n",
       "      <td>0.0<\/td>\n",
       "      <td>1.0<\/td>\n",
       "    <\/tr>\n",
       "    <tr>\n",
       "      <th>SRKingSizeBed<\/th>\n",
       "      <td>111733.0<\/td>\n",
       "      <td>NaN<\/td>\n",
       "      <td>NaN<\/td>\n",
       "      <td>NaN<\/td>\n",
       "      <td>0.363268<\/td>\n",
       "      <td>0.480943<\/td>\n",
       "      <td>0.0<\/td>\n",
       "      <td>0.0<\/td>\n",
       "      <td>0.0<\/td>\n",
       "      <td>1.0<\/td>\n",
       "      <td>1.0<\/td>\n",
       "    <\/tr>\n",
       "    <tr>\n",
       "      <th>SRTwinBed<\/th>\n",
       "      <td>111733.0<\/td>\n",
       "      <td>NaN<\/td>\n",
       "      <td>NaN<\/td>\n",
       "      <td>NaN<\/td>\n",
       "      <td>0.156811<\/td>\n",
       "      <td>0.363624<\/td>\n",
       "      <td>0.0<\/td>\n",
       "      <td>0.0<\/td>\n",
       "      <td>0.0<\/td>\n",
       "      <td>0.0<\/td>\n",
       "      <td>1.0<\/td>\n",
       "    <\/tr>\n",
       "    <tr>\n",
       "      <th>SRNearElevator<\/th>\n",
       "      <td>111733.0<\/td>\n",
       "      <td>NaN<\/td>\n",
       "      <td>NaN<\/td>\n",
       "      <td>NaN<\/td>\n",
       "      <td>0.000331<\/td>\n",
       "      <td>0.018195<\/td>\n",
       "      <td>0.0<\/td>\n",
       "      <td>0.0<\/td>\n",
       "      <td>0.0<\/td>\n",
       "      <td>0.0<\/td>\n",
       "      <td>1.0<\/td>\n",
       "    <\/tr>\n",
       "    <tr>\n",
       "      <th>SRAwayFromElevator<\/th>\n",
       "      <td>111733.0<\/td>\n",
       "      <td>NaN<\/td>\n",
       "      <td>NaN<\/td>\n",
       "      <td>NaN<\/td>\n",
       "      <td>0.003598<\/td>\n",
       "      <td>0.059874<\/td>\n",
       "      <td>0.0<\/td>\n",
       "      <td>0.0<\/td>\n",
       "      <td>0.0<\/td>\n",
       "      <td>0.0<\/td>\n",
       "      <td>1.0<\/td>\n",
       "    <\/tr>\n",
       "    <tr>\n",
       "      <th>SRNoAlcoholInMiniBar<\/th>\n",
       "      <td>111733.0<\/td>\n",
       "      <td>NaN<\/td>\n",
       "      <td>NaN<\/td>\n",
       "      <td>NaN<\/td>\n",
       "      <td>0.000197<\/td>\n",
       "      <td>0.014031<\/td>\n",
       "      <td>0.0<\/td>\n",
       "      <td>0.0<\/td>\n",
       "      <td>0.0<\/td>\n",
       "      <td>0.0<\/td>\n",
       "      <td>1.0<\/td>\n",
       "    <\/tr>\n",
       "    <tr>\n",
       "      <th>SRQuietRoom<\/th>\n",
       "      <td>111733.0<\/td>\n",
       "      <td>NaN<\/td>\n",
       "      <td>NaN<\/td>\n",
       "      <td>NaN<\/td>\n",
       "      <td>0.087718<\/td>\n",
       "      <td>0.282886<\/td>\n",
       "      <td>0.0<\/td>\n",
       "      <td>0.0<\/td>\n",
       "      <td>0.0<\/td>\n",
       "      <td>0.0<\/td>\n",
       "      <td>1.0<\/td>\n",
       "    <\/tr>\n",
       "    <tr>\n",
       "      <th>total_revenue<\/th>\n",
       "      <td>111733.0<\/td>\n",
       "      <td>NaN<\/td>\n",
       "      <td>NaN<\/td>\n",
       "      <td>NaN<\/td>\n",
       "      <td>348.534085<\/td>\n",
       "      <td>454.897943<\/td>\n",
       "      <td>0.0<\/td>\n",
       "      <td>0.0<\/td>\n",
       "      <td>262.0<\/td>\n",
       "      <td>486.6<\/td>\n",
       "      <td>23365.0<\/td>\n",
       "    <\/tr>\n",
       "    <tr>\n",
       "      <th>age_group<\/th>\n",
       "      <td>111733<\/td>\n",
       "      <td>5<\/td>\n",
       "      <td>41-60<\/td>\n",
       "      <td>45496<\/td>\n",
       "      <td>NaN<\/td>\n",
       "      <td>NaN<\/td>\n",
       "      <td>NaN<\/td>\n",
       "      <td>NaN<\/td>\n",
       "      <td>NaN<\/td>\n",
       "      <td>NaN<\/td>\n",
       "      <td>NaN<\/td>\n",
       "    <\/tr>\n",
       "  <\/tbody>\n",
       "<\/table>\n",
       "<\/div>"
      ]
     },
     "metadata":{
      
     },
     "output_type":"display_data"
    }
   ],
   "metadata":{
    "datalore":{
     "node_id":"bgcF3Br2ycFqjcrmMn9tWV",
     "type":"CODE",
     "hide_input_from_viewers":false,
     "hide_output_from_viewers":false
    }
   }
  },
  {
   "cell_type":"code",
   "source":[
    "# plotting boxplots for selected numerical variables\n",
    "\n",
    "df[['DaysSinceCreation', 'BookingsCanceled', 'AverageLeadTime', 'BookingsCheckedIn']].boxplot(grid=False, vert=False, fontsize=12, figsize=(15,4))\n",
    "plt.show()"
   ],
   "execution_count":305,
   "outputs":[
    {
     "data":{
      "image\/png":"[encoded data removed]"
     },
     "metadata":{
      "image\/png":{
       
      }
     },
     "output_type":"display_data"
    }
   ],
   "metadata":{
    "datalore":{
     "node_id":"mQqOnY9lLmVyetmvTAwSxI",
     "type":"CODE",
     "hide_input_from_viewers":false,
     "hide_output_from_viewers":false
    }
   }
  },
  {
   "cell_type":"code",
   "source":[
    "# plotting histograms for selected variables; we have adjusted the ranges and bin number for visualization purposes\n",
    "\n",
    "fig, ((ax0, ax1), (ax2, ax3)) = plt.subplots(nrows=2, ncols=2, figsize=(15,10), dpi=72)\n",
    "\n",
    "ax0.hist(df['DaysSinceCreation'], bins='auto', density=True)\n",
    "ax0.set_title('DaysSinceCreation', fontsize=13, fontweight='bold')\n",
    "ax0.set_xlabel('Days since order creation')\n",
    "\n",
    "ax1.hist(df['PersonsNights'], bins='auto', range=(0,20), width=0.9)\n",
    "ax1.set_xticks(range(0,21))\n",
    "ax1.set_title('Persons\/Nights', fontsize=13, fontweight='bold')\n",
    "ax1.set_xlabel('ratio')\n",
    "\n",
    "ax2.hist(df['total_revenue'], bins='auto', range=(1,1000))\n",
    "ax2.set_title('Total revenue', fontsize=13, fontweight='bold')\n",
    "ax2.set_xlabel('Revenue')\n",
    "\n",
    "ax3.hist(df['AverageLeadTime'], bins='auto')\n",
    "ax3.set_title('Reservation Lead Time', fontsize=13, fontweight='bold')\n",
    "ax3.set_xlabel('Days')\n",
    "\n",
    "plt.tight_layout()\n",
    "plt.show()"
   ],
   "execution_count":306,
   "outputs":[
    {
     "data":{
      "image\/png":"[encoded data removed]"
     },
     "metadata":{
      "image\/png":{
       
      }
     },
     "output_type":"display_data"
    }
   ],
   "metadata":{
    "datalore":{
     "node_id":"S7G2M7AJmeXncq0TQ0Os43",
     "type":"CODE",
     "hide_input_from_viewers":false,
     "hide_output_from_viewers":false
    }
   }
  },
  {
   "cell_type":"code",
   "source":[
    "# let's see top customer markets\n",
    "\n",
    "df['Nationality'].value_counts().head(5).plot.bar(figsize=(15,5))"
   ],
   "execution_count":307,
   "outputs":[
    {
     "data":{
      "text\/plain":[
       "<AxesSubplot:>"
      ]
     },
     "metadata":{
      
     },
     "output_type":"display_data"
    },
    {
     "data":{
      "image\/png":"[encoded data removed]"
     },
     "metadata":{
      "image\/png":{
       
      }
     },
     "output_type":"display_data"
    }
   ],
   "metadata":{
    "datalore":{
     "node_id":"TgVkWPmRI4ZfCI0PkF1uSU",
     "type":"CODE",
     "hide_input_from_viewers":false,
     "hide_output_from_viewers":false
    }
   }
  },
  {
   "cell_type":"code",
   "source":[
    "# plotting histograms on all numerical variables\n",
    "\n",
    "numerical=df.select_dtypes(include=[np.number])\n",
    "numerical = [col for col in numerical.columns if ('SR' not in col)]\n",
    "n_col = 3\n",
    "n_row = math.ceil(df[numerical].shape[1]\/n_col)\n",
    "df[numerical].hist(bins=50, figsize=(15, df[numerical].shape[1]), layout=(n_row, n_col), xlabelsize=8, ylabelsize=8);"
   ],
   "execution_count":308,
   "outputs":[
    {
     "data":{
      "image\/png":"[encoded data removed]"
     },
     "metadata":{
      "image\/png":{
       
      }
     },
     "output_type":"display_data"
    }
   ],
   "metadata":{
    "datalore":{
     "node_id":"xlt9FIlX9Wl7sqVSNLtTMu",
     "type":"CODE",
     "hide_input_from_viewers":false,
     "hide_output_from_viewers":false
    }
   }
  },
  {
   "cell_type":"code",
   "source":[
    "# showing boxplots on all numeric variables\n",
    "\n",
    "fig, ax = plt.subplots(n_row, n_col, figsize=(20, 20))\n",
    "for var, subplot in zip(df[numerical], ax.flatten()):\n",
    "    sns.boxplot(x = df[var], ax=subplot)"
   ],
   "execution_count":309,
   "outputs":[
    {
     "data":{
      "image\/png":"[encoded data removed]"
     },
     "metadata":{
      "image\/png":{
       
      }
     },
     "output_type":"display_data"
    }
   ],
   "metadata":{
    "datalore":{
     "node_id":"XnHvnkSA9b39qMTdFAr5Qu",
     "type":"CODE",
     "hide_input_from_viewers":false,
     "hide_output_from_viewers":false
    }
   }
  },
  {
   "cell_type":"markdown",
   "source":[
    "Based on the conducted analysis we have decided data to undergo such changes:\n",
    "\n",
    "- Ignore (maintain) the entries with missing DocIdHash;\n",
    "- Mantain the single customer with no check-ins and revenue different from zero;\n",
    "- Create a 'Special Requests marker' which represents whether the client ever made a request before;\n",
    "- Perform outliers treatment using IQR or manually, if IQR doesn't work;\n",
    "- Create two ratios: RoomNights\/BookingsCheckedIn (average length of stay) and PersonNights\/RoomNights (Room_dens);\n",
    "- Remove customers with both Lodging and Other revenue equal to zero;\n",
    "- Remove RoomNights and PersonNights;\n",
    "- Mantain the entries with duplicate DocIdHashes, even with same NameHash;\n",
    "- Try to fill de missing Age entries using a classifier. Drop them if a good accuracy is not achieved;\n",
    "- Let the entries with Age below zero be classified as NaNs during the binning procedure;\n",
    "- BookingsCanceled and BookingsNoShowed variables will be removed from the segmentation."
   ],
   "attachments":{
    
   },
   "metadata":{
    "datalore":{
     "node_id":"gWL9TJsvCv2J2487O8VkaK",
     "type":"MD",
     "hide_input_from_viewers":false,
     "hide_output_from_viewers":false
    }
   }
  },
  {
   "cell_type":"code",
   "source":[
    "X = df.copy()\n",
    "\n",
    "X_cols = [col for col in X.columns if 'SR' in col]\n",
    "X['Requests'] = (X[X_cols]!= 0).any(axis=1).astype(int)\n",
    "\n",
    "# creating variable to mark client as family client\n",
    "\n",
    "X.rename(columns={'SRCrib': 'Family'},inplace=True)\n",
    "\n",
    "# creating Group Size variable - 1 client will haze Nan value for group size, \n",
    "# will be set at zero this client is considered to be an exception\n",
    "\n",
    "X['room_dens'] = X['PersonsNights'] \/ X['RoomNights']\n",
    "X['room_dens'].fillna(0, inplace=True)\n",
    "\n",
    "# creating length of stay variable - 1 client will haze Nan value for group size, \n",
    "# will be set at zero this client is considered to be an exception\n",
    "\n",
    "X['avg_len_of_stay'] = X['RoomNights'] \/ X['BookingsCheckedIn']\n",
    "X['avg_len_of_stay'].fillna(0, inplace=True)"
   ],
   "execution_count":310,
   "outputs":[
    
   ],
   "metadata":{
    "datalore":{
     "node_id":"DnJ4VX9yBem9PksZ8XdwCR",
     "type":"CODE",
     "hide_input_from_viewers":false,
     "hide_output_from_viewers":false
    }
   }
  },
  {
   "cell_type":"code",
   "source":[
    "cols = ['ID', 'Nationality', 'DaysSinceCreation', 'NameHash', 'DocIDHash']\n",
    "\n",
    "X.drop(columns=cols, inplace=True)"
   ],
   "execution_count":311,
   "outputs":[
    
   ],
   "metadata":{
    "datalore":{
     "node_id":"GXQZv8rYZ8TR9eIe47LzSs",
     "type":"CODE",
     "hide_input_from_viewers":false,
     "hide_output_from_viewers":false
    }
   }
  },
  {
   "cell_type":"code",
   "source":[
    "# rescaling the revenue values using DaysSinceCreation, \n",
    "# as customers that are in the database for more time \n",
    "# will probably have higher revenue values\n",
    "\n",
    "X['avg_lodging_revenue'] = X['LodgingRevenue'] \/ X['BookingsCheckedIn']\n",
    "X['avg_other_revenue'] = X['OtherRevenue'] \/ X['BookingsCheckedIn']\n",
    "\n",
    "#indexNames = X[X['BookingsCheckedIn']==0].index\n",
    "#X.drop(indexNames, inplace=True)\n",
    "X.reset_index(drop=True, inplace=True)"
   ],
   "execution_count":312,
   "outputs":[
    
   ],
   "metadata":{
    "datalore":{
     "node_id":"6wQq8cE6hKE23VOlzyYS8M",
     "type":"CODE",
     "hide_input_from_viewers":false,
     "hide_output_from_viewers":false
    }
   }
  },
  {
   "cell_type":"code",
   "source":[
    "X.drop(columns=['LodgingRevenue', 'OtherRevenue', 'BookingsCheckedIn'], inplace=True)"
   ],
   "execution_count":313,
   "outputs":[
    
   ],
   "metadata":{
    "datalore":{
     "node_id":"ganX6bOQbWxwsVJXcJJaPU",
     "type":"CODE",
     "hide_input_from_viewers":false,
     "hide_output_from_viewers":false
    }
   }
  },
  {
   "cell_type":"code",
   "source":[
    "# creating bins in LodgingRevenue and OtherRevenue\n",
    "# transforming it into a categorical variable since the values \n",
    "# are scattered and we would like to work with a revenue scale\n",
    "\n",
    "X['lod_rev_bins'] = pd.cut(x=X['avg_lodging_revenue'], \n",
    "                           bins=[-np.inf, 226.15, 399.00, np.inf], labels=['Lodging_C', 'Lodging_B', 'Lodging_A'])\n",
    "X['oth_rev_bins'] = pd.cut(x=X['avg_other_revenue'], \n",
    "                           bins=[-np.inf, 36.00, 86.75, np.inf], labels=['Other_C', 'Other_B', 'Other_A'])"
   ],
   "execution_count":314,
   "outputs":[
    
   ],
   "metadata":{
    "datalore":{
     "node_id":"K1ixbm5UuP5QZ1WpOvh5QX",
     "type":"CODE",
     "hide_input_from_viewers":false,
     "hide_output_from_viewers":false
    }
   }
  },
  {
   "cell_type":"code",
   "source":[
    "# dropping the average revenue  columns from the original dataframe (X)\n",
    "\n",
    "X.drop(columns=['avg_lodging_revenue','avg_other_revenue'], inplace=True)"
   ],
   "execution_count":315,
   "outputs":[
    
   ],
   "metadata":{
    "datalore":{
     "node_id":"MHCaK0tYomuwPwTgG46CEG",
     "type":"CODE",
     "hide_input_from_viewers":false,
     "hide_output_from_viewers":false
    }
   }
  },
  {
   "cell_type":"markdown",
   "source":[
    "# Data Preparation fro Clustering"
   ],
   "attachments":{
    
   },
   "metadata":{
    "datalore":{
     "node_id":"0GurU579EWhlmYGyZ7CwZI",
     "type":"MD",
     "hide_input_from_viewers":false,
     "hide_output_from_viewers":false
    }
   }
  },
  {
   "cell_type":"code",
   "source":[
    "cat_cols_dummies = pd.get_dummies(X[['DistributionChannel', 'MarketSegment', 'age_group']])\n",
    "cat_cols_dummies.head(3)"
   ],
   "execution_count":316,
   "outputs":[
    {
     "data":{
      "text\/html":[
       "<div>\n",
       "<style scoped>\n",
       "    .dataframe tbody tr th:only-of-type {\n",
       "        vertical-align: middle;\n",
       "    }\n",
       "\n",
       "    .dataframe tbody tr th {\n",
       "        vertical-align: top;\n",
       "    }\n",
       "\n",
       "    .dataframe thead th {\n",
       "        text-align: right;\n",
       "    }\n",
       "<\/style>\n",
       "<table border=\"1\" class=\"dataframe\">\n",
       "  <thead>\n",
       "    <tr style=\"text-align: right;\">\n",
       "      <th><\/th>\n",
       "      <th>DistributionChannel_Corporate<\/th>\n",
       "      <th>DistributionChannel_Direct<\/th>\n",
       "      <th>DistributionChannel_GDS Systems<\/th>\n",
       "      <th>DistributionChannel_Travel Agent\/Operator<\/th>\n",
       "      <th>MarketSegment_Aviation<\/th>\n",
       "      <th>MarketSegment_Complementary<\/th>\n",
       "      <th>MarketSegment_Corporate<\/th>\n",
       "      <th>MarketSegment_Direct<\/th>\n",
       "      <th>MarketSegment_Groups<\/th>\n",
       "      <th>MarketSegment_Other<\/th>\n",
       "      <th>MarketSegment_Travel Agent\/Operator<\/th>\n",
       "      <th>age_group_0-20<\/th>\n",
       "      <th>age_group_21-40<\/th>\n",
       "      <th>age_group_41-60<\/th>\n",
       "      <th>age_group_60+<\/th>\n",
       "      <th>age_group_Unknown<\/th>\n",
       "    <\/tr>\n",
       "  <\/thead>\n",
       "  <tbody>\n",
       "    <tr>\n",
       "      <th>0<\/th>\n",
       "      <td>1<\/td>\n",
       "      <td>0<\/td>\n",
       "      <td>0<\/td>\n",
       "      <td>0<\/td>\n",
       "      <td>0<\/td>\n",
       "      <td>0<\/td>\n",
       "      <td>1<\/td>\n",
       "      <td>0<\/td>\n",
       "      <td>0<\/td>\n",
       "      <td>0<\/td>\n",
       "      <td>0<\/td>\n",
       "      <td>0<\/td>\n",
       "      <td>0<\/td>\n",
       "      <td>1<\/td>\n",
       "      <td>0<\/td>\n",
       "      <td>0<\/td>\n",
       "    <\/tr>\n",
       "    <tr>\n",
       "      <th>1<\/th>\n",
       "      <td>0<\/td>\n",
       "      <td>0<\/td>\n",
       "      <td>0<\/td>\n",
       "      <td>1<\/td>\n",
       "      <td>0<\/td>\n",
       "      <td>0<\/td>\n",
       "      <td>0<\/td>\n",
       "      <td>0<\/td>\n",
       "      <td>0<\/td>\n",
       "      <td>0<\/td>\n",
       "      <td>1<\/td>\n",
       "      <td>0<\/td>\n",
       "      <td>0<\/td>\n",
       "      <td>0<\/td>\n",
       "      <td>0<\/td>\n",
       "      <td>1<\/td>\n",
       "    <\/tr>\n",
       "    <tr>\n",
       "      <th>2<\/th>\n",
       "      <td>0<\/td>\n",
       "      <td>0<\/td>\n",
       "      <td>0<\/td>\n",
       "      <td>1<\/td>\n",
       "      <td>0<\/td>\n",
       "      <td>0<\/td>\n",
       "      <td>0<\/td>\n",
       "      <td>0<\/td>\n",
       "      <td>0<\/td>\n",
       "      <td>0<\/td>\n",
       "      <td>1<\/td>\n",
       "      <td>0<\/td>\n",
       "      <td>1<\/td>\n",
       "      <td>0<\/td>\n",
       "      <td>0<\/td>\n",
       "      <td>0<\/td>\n",
       "    <\/tr>\n",
       "  <\/tbody>\n",
       "<\/table>\n",
       "<\/div>"
      ]
     },
     "metadata":{
      
     },
     "output_type":"display_data"
    }
   ],
   "metadata":{
    "datalore":{
     "node_id":"6cWysvdLLDAElwlpqZBwzi",
     "type":"CODE",
     "hide_input_from_viewers":false,
     "hide_output_from_viewers":false
    }
   }
  },
  {
   "cell_type":"code",
   "source":[
    "to_concat = X.drop(['DistributionChannel', 'MarketSegment', 'Age', 'age_group', 'lod_rev_bins', 'oth_rev_bins'], axis=1)\n",
    "data = pd.concat([to_concat, cat_cols_dummies], axis=1)\n",
    "data.head(3)"
   ],
   "execution_count":317,
   "outputs":[
    {
     "data":{
      "text\/html":[
       "<div>\n",
       "<style scoped>\n",
       "    .dataframe tbody tr th:only-of-type {\n",
       "        vertical-align: middle;\n",
       "    }\n",
       "\n",
       "    .dataframe tbody tr th {\n",
       "        vertical-align: top;\n",
       "    }\n",
       "\n",
       "    .dataframe thead th {\n",
       "        text-align: right;\n",
       "    }\n",
       "<\/style>\n",
       "<table border=\"1\" class=\"dataframe\">\n",
       "  <thead>\n",
       "    <tr style=\"text-align: right;\">\n",
       "      <th><\/th>\n",
       "      <th>AverageLeadTime<\/th>\n",
       "      <th>BookingsCanceled<\/th>\n",
       "      <th>BookingsNoShowed<\/th>\n",
       "      <th>PersonsNights<\/th>\n",
       "      <th>RoomNights<\/th>\n",
       "      <th>SRHighFloor<\/th>\n",
       "      <th>SRLowFloor<\/th>\n",
       "      <th>SRAccessibleRoom<\/th>\n",
       "      <th>SRMediumFloor<\/th>\n",
       "      <th>SRBathtub<\/th>\n",
       "      <th>...<\/th>\n",
       "      <th>MarketSegment_Corporate<\/th>\n",
       "      <th>MarketSegment_Direct<\/th>\n",
       "      <th>MarketSegment_Groups<\/th>\n",
       "      <th>MarketSegment_Other<\/th>\n",
       "      <th>MarketSegment_Travel Agent\/Operator<\/th>\n",
       "      <th>age_group_0-20<\/th>\n",
       "      <th>age_group_21-40<\/th>\n",
       "      <th>age_group_41-60<\/th>\n",
       "      <th>age_group_60+<\/th>\n",
       "      <th>age_group_Unknown<\/th>\n",
       "    <\/tr>\n",
       "  <\/thead>\n",
       "  <tbody>\n",
       "    <tr>\n",
       "      <th>0<\/th>\n",
       "      <td>59<\/td>\n",
       "      <td>1<\/td>\n",
       "      <td>0<\/td>\n",
       "      <td>6<\/td>\n",
       "      <td>4<\/td>\n",
       "      <td>0<\/td>\n",
       "      <td>0<\/td>\n",
       "      <td>0<\/td>\n",
       "      <td>0<\/td>\n",
       "      <td>0<\/td>\n",
       "      <td>...<\/td>\n",
       "      <td>1<\/td>\n",
       "      <td>0<\/td>\n",
       "      <td>0<\/td>\n",
       "      <td>0<\/td>\n",
       "      <td>0<\/td>\n",
       "      <td>0<\/td>\n",
       "      <td>0<\/td>\n",
       "      <td>1<\/td>\n",
       "      <td>0<\/td>\n",
       "      <td>0<\/td>\n",
       "    <\/tr>\n",
       "    <tr>\n",
       "      <th>1<\/th>\n",
       "      <td>61<\/td>\n",
       "      <td>0<\/td>\n",
       "      <td>0<\/td>\n",
       "      <td>10<\/td>\n",
       "      <td>5<\/td>\n",
       "      <td>0<\/td>\n",
       "      <td>0<\/td>\n",
       "      <td>0<\/td>\n",
       "      <td>0<\/td>\n",
       "      <td>0<\/td>\n",
       "      <td>...<\/td>\n",
       "      <td>0<\/td>\n",
       "      <td>0<\/td>\n",
       "      <td>0<\/td>\n",
       "      <td>0<\/td>\n",
       "      <td>1<\/td>\n",
       "      <td>0<\/td>\n",
       "      <td>0<\/td>\n",
       "      <td>0<\/td>\n",
       "      <td>0<\/td>\n",
       "      <td>1<\/td>\n",
       "    <\/tr>\n",
       "    <tr>\n",
       "      <th>2<\/th>\n",
       "      <td>0<\/td>\n",
       "      <td>0<\/td>\n",
       "      <td>0<\/td>\n",
       "      <td>0<\/td>\n",
       "      <td>0<\/td>\n",
       "      <td>0<\/td>\n",
       "      <td>0<\/td>\n",
       "      <td>0<\/td>\n",
       "      <td>0<\/td>\n",
       "      <td>0<\/td>\n",
       "      <td>...<\/td>\n",
       "      <td>0<\/td>\n",
       "      <td>0<\/td>\n",
       "      <td>0<\/td>\n",
       "      <td>0<\/td>\n",
       "      <td>1<\/td>\n",
       "      <td>0<\/td>\n",
       "      <td>1<\/td>\n",
       "      <td>0<\/td>\n",
       "      <td>0<\/td>\n",
       "      <td>0<\/td>\n",
       "    <\/tr>\n",
       "  <\/tbody>\n",
       "<\/table>\n",
       "<p>3 rows × 38 columns<\/p>\n",
       "<\/div>"
      ]
     },
     "metadata":{
      
     },
     "output_type":"display_data"
    }
   ],
   "metadata":{
    "datalore":{
     "node_id":"DUV4x7lYdBunkQGEoRgr2X",
     "type":"CODE",
     "hide_input_from_viewers":false,
     "hide_output_from_viewers":false
    }
   }
  },
  {
   "cell_type":"code",
   "source":[
    "# normalizing variables with MinMaxScaler\n",
    "\n",
    "scaler = MinMaxScaler()\n",
    "data_scaled = scaler.fit_transform(data)\n",
    "data_scaled"
   ],
   "execution_count":319,
   "outputs":[
    {
     "data":{
      "text\/html":[
       "<pre>array([[0.10186757, 0.06666667, 0.        , ..., 1.        , 0.        ,\n",
       "        0.        ],\n",
       "       [0.10526316, 0.        , 0.        , ..., 0.        , 0.        ,\n",
       "        1.        ],\n",
       "       [0.00169779, 0.        , 0.        , ..., 0.        , 0.        ,\n",
       "        0.        ],\n",
       "       ...,\n",
       "       [0.00169779, 0.        , 0.        , ..., 0.        , 0.        ,\n",
       "        0.        ],\n",
       "       [0.11375212, 0.        , 0.        , ..., 1.        , 0.        ,\n",
       "        0.        ],\n",
       "       [0.00169779, 0.        , 0.        , ..., 1.        , 0.        ,\n",
       "        0.        ]])<\/pre>"
      ]
     },
     "metadata":{
      
     },
     "output_type":"display_data"
    }
   ],
   "metadata":{
    "datalore":{
     "node_id":"OOkIzIcqDpbVtlvKG4hhli",
     "type":"CODE",
     "hide_input_from_viewers":false,
     "hide_output_from_viewers":false
    }
   }
  },
  {
   "cell_type":"code",
   "source":[
    "# dropping unnecessary columns\n",
    "\n",
    "X.head()"
   ],
   "execution_count":320,
   "outputs":[
    {
     "data":{
      "text\/html":[
       "<div>\n",
       "<style scoped>\n",
       "    .dataframe tbody tr th:only-of-type {\n",
       "        vertical-align: middle;\n",
       "    }\n",
       "\n",
       "    .dataframe tbody tr th {\n",
       "        vertical-align: top;\n",
       "    }\n",
       "\n",
       "    .dataframe thead th {\n",
       "        text-align: right;\n",
       "    }\n",
       "<\/style>\n",
       "<table border=\"1\" class=\"dataframe\">\n",
       "  <thead>\n",
       "    <tr style=\"text-align: right;\">\n",
       "      <th><\/th>\n",
       "      <th>Age<\/th>\n",
       "      <th>AverageLeadTime<\/th>\n",
       "      <th>BookingsCanceled<\/th>\n",
       "      <th>BookingsNoShowed<\/th>\n",
       "      <th>PersonsNights<\/th>\n",
       "      <th>RoomNights<\/th>\n",
       "      <th>DistributionChannel<\/th>\n",
       "      <th>MarketSegment<\/th>\n",
       "      <th>SRHighFloor<\/th>\n",
       "      <th>SRLowFloor<\/th>\n",
       "      <th>...<\/th>\n",
       "      <th>SRAwayFromElevator<\/th>\n",
       "      <th>SRNoAlcoholInMiniBar<\/th>\n",
       "      <th>SRQuietRoom<\/th>\n",
       "      <th>total_revenue<\/th>\n",
       "      <th>age_group<\/th>\n",
       "      <th>Requests<\/th>\n",
       "      <th>room_dens<\/th>\n",
       "      <th>avg_len_of_stay<\/th>\n",
       "      <th>lod_rev_bins<\/th>\n",
       "      <th>oth_rev_bins<\/th>\n",
       "    <\/tr>\n",
       "  <\/thead>\n",
       "  <tbody>\n",
       "    <tr>\n",
       "      <th>0<\/th>\n",
       "      <td>52.0<\/td>\n",
       "      <td>59<\/td>\n",
       "      <td>1<\/td>\n",
       "      <td>0<\/td>\n",
       "      <td>6<\/td>\n",
       "      <td>4<\/td>\n",
       "      <td>Corporate<\/td>\n",
       "      <td>Corporate<\/td>\n",
       "      <td>0<\/td>\n",
       "      <td>0<\/td>\n",
       "      <td>...<\/td>\n",
       "      <td>0<\/td>\n",
       "      <td>0<\/td>\n",
       "      <td>0<\/td>\n",
       "      <td>374.3<\/td>\n",
       "      <td>41-60<\/td>\n",
       "      <td>0<\/td>\n",
       "      <td>1.5<\/td>\n",
       "      <td>2.0<\/td>\n",
       "      <td>Lodging_C<\/td>\n",
       "      <td>Other_B<\/td>\n",
       "    <\/tr>\n",
       "    <tr>\n",
       "      <th>1<\/th>\n",
       "      <td>NaN<\/td>\n",
       "      <td>61<\/td>\n",
       "      <td>0<\/td>\n",
       "      <td>0<\/td>\n",
       "      <td>10<\/td>\n",
       "      <td>5<\/td>\n",
       "      <td>Travel Agent\/Operator<\/td>\n",
       "      <td>Travel Agent\/Operator<\/td>\n",
       "      <td>0<\/td>\n",
       "      <td>0<\/td>\n",
       "      <td>...<\/td>\n",
       "      <td>0<\/td>\n",
       "      <td>0<\/td>\n",
       "      <td>0<\/td>\n",
       "      <td>333.0<\/td>\n",
       "      <td>Unknown<\/td>\n",
       "      <td>0<\/td>\n",
       "      <td>2.0<\/td>\n",
       "      <td>5.0<\/td>\n",
       "      <td>Lodging_B<\/td>\n",
       "      <td>Other_B<\/td>\n",
       "    <\/tr>\n",
       "    <tr>\n",
       "      <th>2<\/th>\n",
       "      <td>32.0<\/td>\n",
       "      <td>0<\/td>\n",
       "      <td>0<\/td>\n",
       "      <td>0<\/td>\n",
       "      <td>0<\/td>\n",
       "      <td>0<\/td>\n",
       "      <td>Travel Agent\/Operator<\/td>\n",
       "      <td>Travel Agent\/Operator<\/td>\n",
       "      <td>0<\/td>\n",
       "      <td>0<\/td>\n",
       "      <td>...<\/td>\n",
       "      <td>0<\/td>\n",
       "      <td>0<\/td>\n",
       "      <td>0<\/td>\n",
       "      <td>0.0<\/td>\n",
       "      <td>21-40<\/td>\n",
       "      <td>0<\/td>\n",
       "      <td>0.0<\/td>\n",
       "      <td>0.0<\/td>\n",
       "      <td>NaN<\/td>\n",
       "      <td>NaN<\/td>\n",
       "    <\/tr>\n",
       "    <tr>\n",
       "      <th>3<\/th>\n",
       "      <td>61.0<\/td>\n",
       "      <td>93<\/td>\n",
       "      <td>0<\/td>\n",
       "      <td>0<\/td>\n",
       "      <td>10<\/td>\n",
       "      <td>5<\/td>\n",
       "      <td>Travel Agent\/Operator<\/td>\n",
       "      <td>Travel Agent\/Operator<\/td>\n",
       "      <td>0<\/td>\n",
       "      <td>0<\/td>\n",
       "      <td>...<\/td>\n",
       "      <td>0<\/td>\n",
       "      <td>0<\/td>\n",
       "      <td>0<\/td>\n",
       "      <td>300.0<\/td>\n",
       "      <td>60+<\/td>\n",
       "      <td>0<\/td>\n",
       "      <td>2.0<\/td>\n",
       "      <td>5.0<\/td>\n",
       "      <td>Lodging_B<\/td>\n",
       "      <td>Other_B<\/td>\n",
       "    <\/tr>\n",
       "    <tr>\n",
       "      <th>4<\/th>\n",
       "      <td>52.0<\/td>\n",
       "      <td>0<\/td>\n",
       "      <td>0<\/td>\n",
       "      <td>0<\/td>\n",
       "      <td>0<\/td>\n",
       "      <td>0<\/td>\n",
       "      <td>Travel Agent\/Operator<\/td>\n",
       "      <td>Travel Agent\/Operator<\/td>\n",
       "      <td>0<\/td>\n",
       "      <td>0<\/td>\n",
       "      <td>...<\/td>\n",
       "      <td>0<\/td>\n",
       "      <td>0<\/td>\n",
       "      <td>0<\/td>\n",
       "      <td>0.0<\/td>\n",
       "      <td>41-60<\/td>\n",
       "      <td>0<\/td>\n",
       "      <td>0.0<\/td>\n",
       "      <td>0.0<\/td>\n",
       "      <td>NaN<\/td>\n",
       "      <td>NaN<\/td>\n",
       "    <\/tr>\n",
       "  <\/tbody>\n",
       "<\/table>\n",
       "<p>5 rows × 28 columns<\/p>\n",
       "<\/div>"
      ]
     },
     "metadata":{
      
     },
     "output_type":"display_data"
    }
   ],
   "metadata":{
    "datalore":{
     "node_id":"J108qQqwjst5lvFzCo5Dpt",
     "type":"CODE",
     "hide_input_from_viewers":false,
     "hide_output_from_viewers":false
    }
   }
  },
  {
   "cell_type":"code",
   "source":[
    "df_scaled = pd.DataFrame(data_scaled, columns=data.columns)\n",
    "df_scaled.head()"
   ],
   "execution_count":321,
   "outputs":[
    {
     "data":{
      "text\/html":[
       "<div>\n",
       "<style scoped>\n",
       "    .dataframe tbody tr th:only-of-type {\n",
       "        vertical-align: middle;\n",
       "    }\n",
       "\n",
       "    .dataframe tbody tr th {\n",
       "        vertical-align: top;\n",
       "    }\n",
       "\n",
       "    .dataframe thead th {\n",
       "        text-align: right;\n",
       "    }\n",
       "<\/style>\n",
       "<table border=\"1\" class=\"dataframe\">\n",
       "  <thead>\n",
       "    <tr style=\"text-align: right;\">\n",
       "      <th><\/th>\n",
       "      <th>AverageLeadTime<\/th>\n",
       "      <th>BookingsCanceled<\/th>\n",
       "      <th>BookingsNoShowed<\/th>\n",
       "      <th>PersonsNights<\/th>\n",
       "      <th>RoomNights<\/th>\n",
       "      <th>SRHighFloor<\/th>\n",
       "      <th>SRLowFloor<\/th>\n",
       "      <th>SRAccessibleRoom<\/th>\n",
       "      <th>SRMediumFloor<\/th>\n",
       "      <th>SRBathtub<\/th>\n",
       "      <th>...<\/th>\n",
       "      <th>MarketSegment_Corporate<\/th>\n",
       "      <th>MarketSegment_Direct<\/th>\n",
       "      <th>MarketSegment_Groups<\/th>\n",
       "      <th>MarketSegment_Other<\/th>\n",
       "      <th>MarketSegment_Travel Agent\/Operator<\/th>\n",
       "      <th>age_group_0-20<\/th>\n",
       "      <th>age_group_21-40<\/th>\n",
       "      <th>age_group_41-60<\/th>\n",
       "      <th>age_group_60+<\/th>\n",
       "      <th>age_group_Unknown<\/th>\n",
       "    <\/tr>\n",
       "  <\/thead>\n",
       "  <tbody>\n",
       "    <tr>\n",
       "      <th>0<\/th>\n",
       "      <td>0.101868<\/td>\n",
       "      <td>0.066667<\/td>\n",
       "      <td>0.0<\/td>\n",
       "      <td>0.051724<\/td>\n",
       "      <td>0.021622<\/td>\n",
       "      <td>0.0<\/td>\n",
       "      <td>0.0<\/td>\n",
       "      <td>0.0<\/td>\n",
       "      <td>0.0<\/td>\n",
       "      <td>0.0<\/td>\n",
       "      <td>...<\/td>\n",
       "      <td>1.0<\/td>\n",
       "      <td>0.0<\/td>\n",
       "      <td>0.0<\/td>\n",
       "      <td>0.0<\/td>\n",
       "      <td>0.0<\/td>\n",
       "      <td>0.0<\/td>\n",
       "      <td>0.0<\/td>\n",
       "      <td>1.0<\/td>\n",
       "      <td>0.0<\/td>\n",
       "      <td>0.0<\/td>\n",
       "    <\/tr>\n",
       "    <tr>\n",
       "      <th>1<\/th>\n",
       "      <td>0.105263<\/td>\n",
       "      <td>0.000000<\/td>\n",
       "      <td>0.0<\/td>\n",
       "      <td>0.086207<\/td>\n",
       "      <td>0.027027<\/td>\n",
       "      <td>0.0<\/td>\n",
       "      <td>0.0<\/td>\n",
       "      <td>0.0<\/td>\n",
       "      <td>0.0<\/td>\n",
       "      <td>0.0<\/td>\n",
       "      <td>...<\/td>\n",
       "      <td>0.0<\/td>\n",
       "      <td>0.0<\/td>\n",
       "      <td>0.0<\/td>\n",
       "      <td>0.0<\/td>\n",
       "      <td>1.0<\/td>\n",
       "      <td>0.0<\/td>\n",
       "      <td>0.0<\/td>\n",
       "      <td>0.0<\/td>\n",
       "      <td>0.0<\/td>\n",
       "      <td>1.0<\/td>\n",
       "    <\/tr>\n",
       "    <tr>\n",
       "      <th>2<\/th>\n",
       "      <td>0.001698<\/td>\n",
       "      <td>0.000000<\/td>\n",
       "      <td>0.0<\/td>\n",
       "      <td>0.000000<\/td>\n",
       "      <td>0.000000<\/td>\n",
       "      <td>0.0<\/td>\n",
       "      <td>0.0<\/td>\n",
       "      <td>0.0<\/td>\n",
       "      <td>0.0<\/td>\n",
       "      <td>0.0<\/td>\n",
       "      <td>...<\/td>\n",
       "      <td>0.0<\/td>\n",
       "      <td>0.0<\/td>\n",
       "      <td>0.0<\/td>\n",
       "      <td>0.0<\/td>\n",
       "      <td>1.0<\/td>\n",
       "      <td>0.0<\/td>\n",
       "      <td>1.0<\/td>\n",
       "      <td>0.0<\/td>\n",
       "      <td>0.0<\/td>\n",
       "      <td>0.0<\/td>\n",
       "    <\/tr>\n",
       "    <tr>\n",
       "      <th>3<\/th>\n",
       "      <td>0.159593<\/td>\n",
       "      <td>0.000000<\/td>\n",
       "      <td>0.0<\/td>\n",
       "      <td>0.086207<\/td>\n",
       "      <td>0.027027<\/td>\n",
       "      <td>0.0<\/td>\n",
       "      <td>0.0<\/td>\n",
       "      <td>0.0<\/td>\n",
       "      <td>0.0<\/td>\n",
       "      <td>0.0<\/td>\n",
       "      <td>...<\/td>\n",
       "      <td>0.0<\/td>\n",
       "      <td>0.0<\/td>\n",
       "      <td>0.0<\/td>\n",
       "      <td>0.0<\/td>\n",
       "      <td>1.0<\/td>\n",
       "      <td>0.0<\/td>\n",
       "      <td>0.0<\/td>\n",
       "      <td>0.0<\/td>\n",
       "      <td>1.0<\/td>\n",
       "      <td>0.0<\/td>\n",
       "    <\/tr>\n",
       "    <tr>\n",
       "      <th>4<\/th>\n",
       "      <td>0.001698<\/td>\n",
       "      <td>0.000000<\/td>\n",
       "      <td>0.0<\/td>\n",
       "      <td>0.000000<\/td>\n",
       "      <td>0.000000<\/td>\n",
       "      <td>0.0<\/td>\n",
       "      <td>0.0<\/td>\n",
       "      <td>0.0<\/td>\n",
       "      <td>0.0<\/td>\n",
       "      <td>0.0<\/td>\n",
       "      <td>...<\/td>\n",
       "      <td>0.0<\/td>\n",
       "      <td>0.0<\/td>\n",
       "      <td>0.0<\/td>\n",
       "      <td>0.0<\/td>\n",
       "      <td>1.0<\/td>\n",
       "      <td>0.0<\/td>\n",
       "      <td>0.0<\/td>\n",
       "      <td>1.0<\/td>\n",
       "      <td>0.0<\/td>\n",
       "      <td>0.0<\/td>\n",
       "    <\/tr>\n",
       "  <\/tbody>\n",
       "<\/table>\n",
       "<p>5 rows × 38 columns<\/p>\n",
       "<\/div>"
      ]
     },
     "metadata":{
      
     },
     "output_type":"display_data"
    }
   ],
   "metadata":{
    "datalore":{
     "node_id":"yXpgudtSloGZv0tGHwqW4U",
     "type":"CODE",
     "hide_input_from_viewers":false,
     "hide_output_from_viewers":false
    }
   }
  },
  {
   "cell_type":"code",
   "source":[
    "# final variables choice\n",
    "\n",
    "df_final = df_scaled.drop(['SRHighFloor', 'SRLowFloor', 'SRAccessibleRoom', 'SRMediumFloor', 'SRBathtub', 'SRShower',\n",
    "                           'SRKingSizeBed', 'SRTwinBed', 'SRNearElevator', 'SRAwayFromElevator', 'SRNoAlcoholInMiniBar',\n",
    "                           'SRQuietRoom'], axis=1)"
   ],
   "execution_count":322,
   "outputs":[
    
   ],
   "metadata":{
    "datalore":{
     "node_id":"MJeJ0eZyiPANEbO56awUGS",
     "type":"CODE",
     "hide_input_from_viewers":false,
     "hide_output_from_viewers":false
    }
   }
  },
  {
   "cell_type":"markdown",
   "source":[
    "# K-Means clustering\n",
    "\n",
    "Let's apply one of the most popular clustering algorithms - K-means tries to group similar items in the form of clusters. \n",
    "The \"Elbow Method\" is one of the most popular methods to determine this optimal value of K. \n",
    "To determine the optimal number of clusters, we have to select the value of k at the “elbow” is the point after which the distortion (average of the squared distances from the cluster centers of the respective clusters) \/ inertia (sum of squared distances of samples to their closest cluster center) start decreasing in a linear fashion."
   ],
   "attachments":{
    
   },
   "metadata":{
    "datalore":{
     "node_id":"6XAr6OZvJfSNG5PvDrCjGl",
     "type":"MD",
     "hide_input_from_viewers":false,
     "hide_output_from_viewers":false
    }
   }
  },
  {
   "cell_type":"code",
   "source":[
    "wcss = []\n",
    "\n",
    "for i in range(1, 11):\n",
    "    kmeans = KMeans(n_clusters=i)\n",
    "    kmeans.fit(df_final)\n",
    "    wcss.append(kmeans.inertia_)\n",
    "\n",
    "plt.figure(figsize=(10, 7))\n",
    "plt.grid()\n",
    "plt.plot(range(1, 11), wcss)\n",
    "plt.xlabel('K value')\n",
    "plt.ylabel('WCSS')\n",
    "plt.show()"
   ],
   "execution_count":323,
   "outputs":[
    {
     "data":{
      "image\/png":"[encoded data removed]"
     },
     "metadata":{
      "image\/png":{
       
      }
     },
     "output_type":"display_data"
    }
   ],
   "metadata":{
    "datalore":{
     "node_id":"U7Q51aHQIkD0DzQJO2ApRT",
     "type":"CODE",
     "hide_input_from_viewers":false,
     "hide_output_from_viewers":false
    }
   }
  },
  {
   "cell_type":"markdown",
   "source":[
    "We see that the \"elbow\" point is for K=6 se we chose that value."
   ],
   "attachments":{
    
   },
   "metadata":{
    "datalore":{
     "node_id":"Ad0LTW5dP62VHWhyfBDmZ2",
     "type":"MD",
     "hide_input_from_viewers":false,
     "hide_output_from_viewers":false
    }
   }
  },
  {
   "cell_type":"code",
   "source":[
    "kmeans = KMeans(n_clusters=6)\n",
    "kmeans.fit(df_final)"
   ],
   "execution_count":329,
   "outputs":[
    {
     "data":{
      "text\/plain":[
       "KMeans(n_clusters=6)"
      ]
     },
     "metadata":{
      
     },
     "output_type":"display_data"
    }
   ],
   "metadata":{
    "datalore":{
     "node_id":"M2Y51farIiUIRqBiKHBMt7",
     "type":"CODE",
     "hide_input_from_viewers":false,
     "hide_output_from_viewers":false
    }
   }
  },
  {
   "cell_type":"code",
   "source":[
    "labels = kmeans.labels_\n",
    "df['Kmean-Labels'] = labels\n",
    "df['Kmean-Labels'].value_counts()"
   ],
   "execution_count":330,
   "outputs":[
    {
     "data":{
      "text\/html":[
       "<pre>4    35185\n",
       "5    20268\n",
       "3    16714\n",
       "0    16244\n",
       "2    11977\n",
       "1    11345\n",
       "Name: Kmean-Labels, dtype: int64<\/pre>"
      ]
     },
     "metadata":{
      
     },
     "output_type":"display_data"
    }
   ],
   "metadata":{
    "datalore":{
     "node_id":"tLU4hzMKsj7niWxgQ9SBzI",
     "type":"CODE",
     "hide_input_from_viewers":false,
     "hide_output_from_viewers":false
    }
   }
  },
  {
   "cell_type":"markdown",
   "source":[
    "Let's also take a look at average values of original data grouped by labels:"
   ],
   "attachments":{
    
   },
   "metadata":{
    "datalore":{
     "node_id":"vkJq3vNVxy97mN59RoT3O9",
     "type":"MD",
     "hide_input_from_viewers":false,
     "hide_output_from_viewers":false
    }
   }
  },
  {
   "cell_type":"code",
   "source":[
    "kmeans_avg = df.groupby('Kmean-Labels').mean()\n",
    "kmeans_avg"
   ],
   "execution_count":333,
   "outputs":[
    {
     "data":{
      "text\/html":[
       "<div>\n",
       "<style scoped>\n",
       "    .dataframe tbody tr th:only-of-type {\n",
       "        vertical-align: middle;\n",
       "    }\n",
       "\n",
       "    .dataframe tbody tr th {\n",
       "        vertical-align: top;\n",
       "    }\n",
       "\n",
       "    .dataframe thead th {\n",
       "        text-align: right;\n",
       "    }\n",
       "<\/style>\n",
       "<table border=\"1\" class=\"dataframe\">\n",
       "  <thead>\n",
       "    <tr style=\"text-align: right;\">\n",
       "      <th><\/th>\n",
       "      <th>ID<\/th>\n",
       "      <th>Age<\/th>\n",
       "      <th>DaysSinceCreation<\/th>\n",
       "      <th>AverageLeadTime<\/th>\n",
       "      <th>LodgingRevenue<\/th>\n",
       "      <th>OtherRevenue<\/th>\n",
       "      <th>BookingsCanceled<\/th>\n",
       "      <th>BookingsNoShowed<\/th>\n",
       "      <th>BookingsCheckedIn<\/th>\n",
       "      <th>PersonsNights<\/th>\n",
       "      <th>...<\/th>\n",
       "      <th>SRBathtub<\/th>\n",
       "      <th>SRShower<\/th>\n",
       "      <th>SRCrib<\/th>\n",
       "      <th>SRKingSizeBed<\/th>\n",
       "      <th>SRTwinBed<\/th>\n",
       "      <th>SRNearElevator<\/th>\n",
       "      <th>SRAwayFromElevator<\/th>\n",
       "      <th>SRNoAlcoholInMiniBar<\/th>\n",
       "      <th>SRQuietRoom<\/th>\n",
       "      <th>total_revenue<\/th>\n",
       "    <\/tr>\n",
       "    <tr>\n",
       "      <th>Kmean-Labels<\/th>\n",
       "      <th><\/th>\n",
       "      <th><\/th>\n",
       "      <th><\/th>\n",
       "      <th><\/th>\n",
       "      <th><\/th>\n",
       "      <th><\/th>\n",
       "      <th><\/th>\n",
       "      <th><\/th>\n",
       "      <th><\/th>\n",
       "      <th><\/th>\n",
       "      <th><\/th>\n",
       "      <th><\/th>\n",
       "      <th><\/th>\n",
       "      <th><\/th>\n",
       "      <th><\/th>\n",
       "      <th><\/th>\n",
       "      <th><\/th>\n",
       "      <th><\/th>\n",
       "      <th><\/th>\n",
       "      <th><\/th>\n",
       "      <th><\/th>\n",
       "    <\/tr>\n",
       "  <\/thead>\n",
       "  <tbody>\n",
       "    <tr>\n",
       "      <th>0<\/th>\n",
       "      <td>52243.826644<\/td>\n",
       "      <td>46.838735<\/td>\n",
       "      <td>646.597821<\/td>\n",
       "      <td>71.970328<\/td>\n",
       "      <td>236.789036<\/td>\n",
       "      <td>64.814404<\/td>\n",
       "      <td>0.003940<\/td>\n",
       "      <td>0.001231<\/td>\n",
       "      <td>0.823935<\/td>\n",
       "      <td>4.459739<\/td>\n",
       "      <td>...<\/td>\n",
       "      <td>0.001354<\/td>\n",
       "      <td>0.000369<\/td>\n",
       "      <td>0.009911<\/td>\n",
       "      <td>0.069256<\/td>\n",
       "      <td>0.058668<\/td>\n",
       "      <td>0.000123<\/td>\n",
       "      <td>0.000923<\/td>\n",
       "      <td>0.000000<\/td>\n",
       "      <td>0.006772<\/td>\n",
       "      <td>301.603440<\/td>\n",
       "    <\/tr>\n",
       "    <tr>\n",
       "      <th>1<\/th>\n",
       "      <td>49769.161833<\/td>\n",
       "      <td>55.123527<\/td>\n",
       "      <td>661.675981<\/td>\n",
       "      <td>96.169238<\/td>\n",
       "      <td>269.381793<\/td>\n",
       "      <td>68.648808<\/td>\n",
       "      <td>0.000264<\/td>\n",
       "      <td>0.000088<\/td>\n",
       "      <td>0.816307<\/td>\n",
       "      <td>3.545879<\/td>\n",
       "      <td>...<\/td>\n",
       "      <td>0.000176<\/td>\n",
       "      <td>0.000000<\/td>\n",
       "      <td>0.004407<\/td>\n",
       "      <td>0.233583<\/td>\n",
       "      <td>0.231027<\/td>\n",
       "      <td>0.000088<\/td>\n",
       "      <td>0.000705<\/td>\n",
       "      <td>0.000000<\/td>\n",
       "      <td>0.001939<\/td>\n",
       "      <td>338.030601<\/td>\n",
       "    <\/tr>\n",
       "    <tr>\n",
       "      <th>2<\/th>\n",
       "      <td>55069.831427<\/td>\n",
       "      <td>68.674042<\/td>\n",
       "      <td>605.328797<\/td>\n",
       "      <td>87.082575<\/td>\n",
       "      <td>291.102781<\/td>\n",
       "      <td>80.127161<\/td>\n",
       "      <td>0.001419<\/td>\n",
       "      <td>0.000334<\/td>\n",
       "      <td>0.761960<\/td>\n",
       "      <td>4.664357<\/td>\n",
       "      <td>...<\/td>\n",
       "      <td>0.002672<\/td>\n",
       "      <td>0.003507<\/td>\n",
       "      <td>0.002087<\/td>\n",
       "      <td>0.440177<\/td>\n",
       "      <td>0.299992<\/td>\n",
       "      <td>0.001002<\/td>\n",
       "      <td>0.004676<\/td>\n",
       "      <td>0.000000<\/td>\n",
       "      <td>0.137597<\/td>\n",
       "      <td>371.229942<\/td>\n",
       "    <\/tr>\n",
       "    <tr>\n",
       "      <th>3<\/th>\n",
       "      <td>60402.374596<\/td>\n",
       "      <td>42.480209<\/td>\n",
       "      <td>542.274022<\/td>\n",
       "      <td>39.583164<\/td>\n",
       "      <td>293.848371<\/td>\n",
       "      <td>64.217509<\/td>\n",
       "      <td>0.003590<\/td>\n",
       "      <td>0.000359<\/td>\n",
       "      <td>0.702525<\/td>\n",
       "      <td>4.019205<\/td>\n",
       "      <td>...<\/td>\n",
       "      <td>0.006641<\/td>\n",
       "      <td>0.004308<\/td>\n",
       "      <td>0.030154<\/td>\n",
       "      <td>0.216465<\/td>\n",
       "      <td>0.091121<\/td>\n",
       "      <td>0.000658<\/td>\n",
       "      <td>0.007000<\/td>\n",
       "      <td>0.000179<\/td>\n",
       "      <td>0.043018<\/td>\n",
       "      <td>358.065880<\/td>\n",
       "    <\/tr>\n",
       "    <tr>\n",
       "      <th>4<\/th>\n",
       "      <td>56542.734830<\/td>\n",
       "      <td>43.741501<\/td>\n",
       "      <td>584.591928<\/td>\n",
       "      <td>53.307063<\/td>\n",
       "      <td>298.607224<\/td>\n",
       "      <td>64.256449<\/td>\n",
       "      <td>0.002984<\/td>\n",
       "      <td>0.000966<\/td>\n",
       "      <td>0.688987<\/td>\n",
       "      <td>4.516470<\/td>\n",
       "      <td>...<\/td>\n",
       "      <td>0.002558<\/td>\n",
       "      <td>0.000966<\/td>\n",
       "      <td>0.014694<\/td>\n",
       "      <td>0.492653<\/td>\n",
       "      <td>0.155038<\/td>\n",
       "      <td>0.000256<\/td>\n",
       "      <td>0.004235<\/td>\n",
       "      <td>0.000284<\/td>\n",
       "      <td>0.145829<\/td>\n",
       "      <td>362.863674<\/td>\n",
       "    <\/tr>\n",
       "    <tr>\n",
       "      <th>5<\/th>\n",
       "      <td>57742.000444<\/td>\n",
       "      <td>31.706335<\/td>\n",
       "      <td>571.916321<\/td>\n",
       "      <td>47.205151<\/td>\n",
       "      <td>291.523731<\/td>\n",
       "      <td>54.354647<\/td>\n",
       "      <td>0.000296<\/td>\n",
       "      <td>0.000099<\/td>\n",
       "      <td>0.723308<\/td>\n",
       "      <td>4.390665<\/td>\n",
       "      <td>...<\/td>\n",
       "      <td>0.004589<\/td>\n",
       "      <td>0.001381<\/td>\n",
       "      <td>0.027186<\/td>\n",
       "      <td>0.522499<\/td>\n",
       "      <td>0.166568<\/td>\n",
       "      <td>0.000099<\/td>\n",
       "      <td>0.002812<\/td>\n",
       "      <td>0.000444<\/td>\n",
       "      <td>0.107115<\/td>\n",
       "      <td>345.878378<\/td>\n",
       "    <\/tr>\n",
       "  <\/tbody>\n",
       "<\/table>\n",
       "<p>6 rows × 25 columns<\/p>\n",
       "<\/div>"
      ]
     },
     "metadata":{
      
     },
     "output_type":"display_data"
    }
   ],
   "metadata":{
    "datalore":{
     "node_id":"P4ASt6P9XsDlqHrrunax6F",
     "type":"CODE",
     "hide_input_from_viewers":false,
     "hide_output_from_viewers":false
    }
   }
  },
  {
   "cell_type":"code",
   "source":[
    "df.head()"
   ],
   "execution_count":336,
   "outputs":[
    {
     "data":{
      "text\/html":[
       "<div>\n",
       "<style scoped>\n",
       "    .dataframe tbody tr th:only-of-type {\n",
       "        vertical-align: middle;\n",
       "    }\n",
       "\n",
       "    .dataframe tbody tr th {\n",
       "        vertical-align: top;\n",
       "    }\n",
       "\n",
       "    .dataframe thead th {\n",
       "        text-align: right;\n",
       "    }\n",
       "<\/style>\n",
       "<table border=\"1\" class=\"dataframe\">\n",
       "  <thead>\n",
       "    <tr style=\"text-align: right;\">\n",
       "      <th><\/th>\n",
       "      <th>ID<\/th>\n",
       "      <th>Nationality<\/th>\n",
       "      <th>Age<\/th>\n",
       "      <th>DaysSinceCreation<\/th>\n",
       "      <th>NameHash<\/th>\n",
       "      <th>DocIDHash<\/th>\n",
       "      <th>AverageLeadTime<\/th>\n",
       "      <th>LodgingRevenue<\/th>\n",
       "      <th>OtherRevenue<\/th>\n",
       "      <th>BookingsCanceled<\/th>\n",
       "      <th>...<\/th>\n",
       "      <th>SRCrib<\/th>\n",
       "      <th>SRKingSizeBed<\/th>\n",
       "      <th>SRTwinBed<\/th>\n",
       "      <th>SRNearElevator<\/th>\n",
       "      <th>SRAwayFromElevator<\/th>\n",
       "      <th>SRNoAlcoholInMiniBar<\/th>\n",
       "      <th>SRQuietRoom<\/th>\n",
       "      <th>total_revenue<\/th>\n",
       "      <th>age_group<\/th>\n",
       "      <th>Kmean-Labels<\/th>\n",
       "    <\/tr>\n",
       "  <\/thead>\n",
       "  <tbody>\n",
       "    <tr>\n",
       "      <th>0<\/th>\n",
       "      <td>1<\/td>\n",
       "      <td>PRT<\/td>\n",
       "      <td>52.0<\/td>\n",
       "      <td>440<\/td>\n",
       "      <td>0x2C371FD6CE12936774A139FD7430C624F1C4D5109CE6...<\/td>\n",
       "      <td>0x434FD3D59469C73AFEA087017FAF8CA2296493AEABDE...<\/td>\n",
       "      <td>59<\/td>\n",
       "      <td>292.0<\/td>\n",
       "      <td>82.3<\/td>\n",
       "      <td>1<\/td>\n",
       "      <td>...<\/td>\n",
       "      <td>0<\/td>\n",
       "      <td>0<\/td>\n",
       "      <td>0<\/td>\n",
       "      <td>0<\/td>\n",
       "      <td>0<\/td>\n",
       "      <td>0<\/td>\n",
       "      <td>0<\/td>\n",
       "      <td>374.3<\/td>\n",
       "      <td>41-60<\/td>\n",
       "      <td>0<\/td>\n",
       "    <\/tr>\n",
       "    <tr>\n",
       "      <th>1<\/th>\n",
       "      <td>2<\/td>\n",
       "      <td>PRT<\/td>\n",
       "      <td>NaN<\/td>\n",
       "      <td>1385<\/td>\n",
       "      <td>0x198CDB98BF37B6E23F9548C56A88B00912D65A9AA0D6...<\/td>\n",
       "      <td>0xE3B0C44298FC1C149AFBF4C8996FB92427AE41E4649B...<\/td>\n",
       "      <td>61<\/td>\n",
       "      <td>280.0<\/td>\n",
       "      <td>53.0<\/td>\n",
       "      <td>0<\/td>\n",
       "      <td>...<\/td>\n",
       "      <td>0<\/td>\n",
       "      <td>0<\/td>\n",
       "      <td>0<\/td>\n",
       "      <td>0<\/td>\n",
       "      <td>0<\/td>\n",
       "      <td>0<\/td>\n",
       "      <td>0<\/td>\n",
       "      <td>333.0<\/td>\n",
       "      <td>Unknown<\/td>\n",
       "      <td>0<\/td>\n",
       "    <\/tr>\n",
       "    <tr>\n",
       "      <th>2<\/th>\n",
       "      <td>3<\/td>\n",
       "      <td>DEU<\/td>\n",
       "      <td>32.0<\/td>\n",
       "      <td>1385<\/td>\n",
       "      <td>0xDA46E62F66936284DF2844EC4FC542D0DAD780C0EE0C...<\/td>\n",
       "      <td>0x27F5DF762CCDA622C752CCDA45794923BED9F1B66300...<\/td>\n",
       "      <td>0<\/td>\n",
       "      <td>0.0<\/td>\n",
       "      <td>0.0<\/td>\n",
       "      <td>0<\/td>\n",
       "      <td>...<\/td>\n",
       "      <td>0<\/td>\n",
       "      <td>0<\/td>\n",
       "      <td>0<\/td>\n",
       "      <td>0<\/td>\n",
       "      <td>0<\/td>\n",
       "      <td>0<\/td>\n",
       "      <td>0<\/td>\n",
       "      <td>0.0<\/td>\n",
       "      <td>21-40<\/td>\n",
       "      <td>0<\/td>\n",
       "    <\/tr>\n",
       "    <tr>\n",
       "      <th>3<\/th>\n",
       "      <td>4<\/td>\n",
       "      <td>FRA<\/td>\n",
       "      <td>61.0<\/td>\n",
       "      <td>1385<\/td>\n",
       "      <td>0xC45D4CD22C58FDC5FD0F95315F6EFA5A6E7149187D49...<\/td>\n",
       "      <td>0x8E59572913BB9B1E6CAA12FA2C8B7BF387B1D1F3432E...<\/td>\n",
       "      <td>93<\/td>\n",
       "      <td>240.0<\/td>\n",
       "      <td>60.0<\/td>\n",
       "      <td>0<\/td>\n",
       "      <td>...<\/td>\n",
       "      <td>0<\/td>\n",
       "      <td>0<\/td>\n",
       "      <td>0<\/td>\n",
       "      <td>0<\/td>\n",
       "      <td>0<\/td>\n",
       "      <td>0<\/td>\n",
       "      <td>0<\/td>\n",
       "      <td>300.0<\/td>\n",
       "      <td>60+<\/td>\n",
       "      <td>0<\/td>\n",
       "    <\/tr>\n",
       "    <tr>\n",
       "      <th>4<\/th>\n",
       "      <td>5<\/td>\n",
       "      <td>FRA<\/td>\n",
       "      <td>52.0<\/td>\n",
       "      <td>1385<\/td>\n",
       "      <td>0xD2E3D5BFCA141865669F98D64CDA85AD04DEFF47F8A0...<\/td>\n",
       "      <td>0x42BDEE0E05A9441C94147076EDDCC47E604DA5447DD4...<\/td>\n",
       "      <td>0<\/td>\n",
       "      <td>0.0<\/td>\n",
       "      <td>0.0<\/td>\n",
       "      <td>0<\/td>\n",
       "      <td>...<\/td>\n",
       "      <td>0<\/td>\n",
       "      <td>0<\/td>\n",
       "      <td>0<\/td>\n",
       "      <td>0<\/td>\n",
       "      <td>0<\/td>\n",
       "      <td>0<\/td>\n",
       "      <td>0<\/td>\n",
       "      <td>0.0<\/td>\n",
       "      <td>41-60<\/td>\n",
       "      <td>0<\/td>\n",
       "    <\/tr>\n",
       "  <\/tbody>\n",
       "<\/table>\n",
       "<p>5 rows × 32 columns<\/p>\n",
       "<\/div>"
      ]
     },
     "metadata":{
      
     },
     "output_type":"display_data"
    }
   ],
   "metadata":{
    "datalore":{
     "node_id":"6EurWq71HJudL6VbqpJiid",
     "type":"CODE",
     "hide_input_from_viewers":false,
     "hide_output_from_viewers":false
    }
   }
  },
  {
   "cell_type":"markdown",
   "source":[
    "Next, we use the silhouette score, which ranges from −1 to +1, where a value closer to 1 indicates that the object is well matched to its own cluster and poorly matched to neighboring clusters. If most objects have a high value, then the clustering configuration is appropriate. A value of 0 indicates that the sample is on or very close to the decision boundary between two neighboring clusters and negative values indicate that those samples might have been assigned to the wrong cluster."
   ],
   "attachments":{
    
   },
   "metadata":{
    "datalore":{
     "node_id":"No8M803E2SGQs9G9z86VIo",
     "type":"MD",
     "hide_input_from_viewers":false,
     "hide_output_from_viewers":false
    }
   }
  },
  {
   "cell_type":"code",
   "source":[
    "round(silhouette_score(df_final, labels, metric='euclidean'), 4)"
   ],
   "execution_count":337,
   "outputs":[
    {
     "data":{
      "text\/plain":[
       "0.3729"
      ]
     },
     "metadata":{
      
     },
     "output_type":"display_data"
    }
   ],
   "metadata":{
    "datalore":{
     "node_id":"Y2tZMLkUYQMIoDjDco0QnI",
     "type":"CODE",
     "hide_input_from_viewers":false,
     "hide_output_from_viewers":false
    }
   }
  },
  {
   "cell_type":"markdown",
   "source":[
    "As we see, the silhouette score is quite poor. It may depend on the different number of clusters.\n",
    "\n",
    "Now that we have performed k-means clustering, we can analyze the resulting clusters and describe their behavior. Here's what we can say about each cluster:\n",
    "\n",
    "**Cluster 0:** This cluster represents customers who are relatively young and have a high number of bookings. They tend to cancel or no-show their bookings more often than other customers, but also tend to spend more on lodging and other revenue. They have a relatively low number of person and room nights.\n",
    "\n",
    "**Cluster 1**: This cluster represents customers who are relatively old and have been created for a longer time. They tend to book rooms with a higher lead time and are less likely to cancel or no-show their bookings. They also tend to spend more on lodging and other revenue, and have a relatively high number of person and room nights.\n",
    "\n",
    "**Cluster 2:** This cluster represents customers who are relatively young and have been created for a shorter time. They tend to book rooms with a shorter lead time and have a relatively low amount of lodging and other revenue. They also tend to have a low number of person and room nights.\n",
    "\n",
    "**Cluster 3:** This cluster represents customers who are relatively old and have a high number of bookings. They tend to cancel or no-show their bookings more often than other customers and have a relatively low amount of lodging and other revenue. They also have a relatively low number of person and room nights.\n",
    "\n",
    "**Cluster 4:** This cluster represents customers who are relatively young and have a low number of bookings. They tend to book rooms with a shorter lead time and have a relatively low amount of lodging and other revenue. They also have a low number of person and room nights.\n",
    "\n",
    "**Cluster 5:** This cluster represents customers who are relatively old and have a low number of bookings. They tend to book rooms with a longer lead time and have a relatively low amount of lodging and other revenue. They also have a relatively high number of person and room nights."
   ],
   "attachments":{
    
   },
   "metadata":{
    "datalore":{
     "node_id":"GPSbqJrJpbp9KfY9NSpjWA",
     "type":"MD",
     "hide_input_from_viewers":false,
     "hide_output_from_viewers":false
    }
   }
  },
  {
   "cell_type":"markdown",
   "source":[
    "# PCA analysis"
   ],
   "attachments":{
    
   },
   "metadata":{
    "datalore":{
     "node_id":"mUgfzGLCIZC7Shx0gwzVjk",
     "type":"MD",
     "hide_input_from_viewers":false,
     "hide_output_from_viewers":false
    }
   }
  },
  {
   "cell_type":"code",
   "source":[
    "# exploring the most important variables with high explanatory power\n",
    "\n",
    "pca = PCA(n_components= df_scaled.shape[1])\n",
    "principalComponents = pca.fit_transform(df_scaled)"
   ],
   "execution_count":339,
   "outputs":[
    
   ],
   "metadata":{
    "datalore":{
     "node_id":"0JSYJUQQzmY7945DBSzDU8",
     "type":"CODE",
     "hide_input_from_viewers":false,
     "hide_output_from_viewers":false
    }
   }
  },
  {
   "cell_type":"code",
   "source":[
    "# plotting the explained variances\n",
    "\n",
    "features=range(pca.n_components_)\n",
    "fig, ax = plt.subplots(figsize=(10, 7))\n",
    "plt.bar(features, pca.explained_variance_ratio_, color='blue')\n",
    "plt.xlabel('PCA features')\n",
    "plt.ylabel('variance %')\n",
    "plt.xticks(features)\n",
    "plt.title('PC Analysis of numerical variables')"
   ],
   "execution_count":347,
   "outputs":[
    {
     "data":{
      "text\/plain":[
       "Text(0.5, 1.0, 'PC Analysis of numerical variables')"
      ]
     },
     "metadata":{
      
     },
     "output_type":"display_data"
    },
    {
     "data":{
      "image\/png":"[encoded data removed]"
     },
     "metadata":{
      "image\/png":{
       
      }
     },
     "output_type":"display_data"
    }
   ],
   "metadata":{
    "datalore":{
     "node_id":"bcZfInxL4qr6xsX5V903PI",
     "type":"CODE",
     "hide_input_from_viewers":false,
     "hide_output_from_viewers":false
    }
   }
  },
  {
   "cell_type":"code",
   "source":[
    "# fitting the PCA algorithm to data \n",
    "\n",
    "pca = PCA().fit(data)\n",
    "\n",
    "# showing the variance per component\n",
    "# with 8 components we can explain 95% of variance\n",
    "\n",
    "pcaevr = ['{:f}'.format(item) for item in pca.explained_variance_ratio_]\n",
    "pcaDF = pd.DataFrame({'Component': range(1, len(data.columns)+1),\n",
    "                      'Variance explained': pcaevr,\n",
    "                      'Cumulative variance explained': np.cumsum(pca.explained_variance_ratio_)})\n",
    "pcaDF"
   ],
   "execution_count":354,
   "outputs":[
    {
     "data":{
      "text\/html":[
       "<div>\n",
       "<style scoped>\n",
       "    .dataframe tbody tr th:only-of-type {\n",
       "        vertical-align: middle;\n",
       "    }\n",
       "\n",
       "    .dataframe tbody tr th {\n",
       "        vertical-align: top;\n",
       "    }\n",
       "\n",
       "    .dataframe thead th {\n",
       "        text-align: right;\n",
       "    }\n",
       "<\/style>\n",
       "<table border=\"1\" class=\"dataframe\">\n",
       "  <thead>\n",
       "    <tr style=\"text-align: right;\">\n",
       "      <th><\/th>\n",
       "      <th>Component<\/th>\n",
       "      <th>Variance explained<\/th>\n",
       "      <th>Cumulative variance explained<\/th>\n",
       "    <\/tr>\n",
       "  <\/thead>\n",
       "  <tbody>\n",
       "    <tr>\n",
       "      <th>0<\/th>\n",
       "      <td>1<\/td>\n",
       "      <td>0.968923<\/td>\n",
       "      <td>0.968923<\/td>\n",
       "    <\/tr>\n",
       "    <tr>\n",
       "      <th>1<\/th>\n",
       "      <td>2<\/td>\n",
       "      <td>0.030983<\/td>\n",
       "      <td>0.999905<\/td>\n",
       "    <\/tr>\n",
       "    <tr>\n",
       "      <th>2<\/th>\n",
       "      <td>3<\/td>\n",
       "      <td>0.000060<\/td>\n",
       "      <td>0.999966<\/td>\n",
       "    <\/tr>\n",
       "    <tr>\n",
       "      <th>3<\/th>\n",
       "      <td>4<\/td>\n",
       "      <td>0.000014<\/td>\n",
       "      <td>0.999979<\/td>\n",
       "    <\/tr>\n",
       "    <tr>\n",
       "      <th>4<\/th>\n",
       "      <td>5<\/td>\n",
       "      <td>0.000006<\/td>\n",
       "      <td>0.999986<\/td>\n",
       "    <\/tr>\n",
       "    <tr>\n",
       "      <th>5<\/th>\n",
       "      <td>6<\/td>\n",
       "      <td>0.000003<\/td>\n",
       "      <td>0.999988<\/td>\n",
       "    <\/tr>\n",
       "    <tr>\n",
       "      <th>6<\/th>\n",
       "      <td>7<\/td>\n",
       "      <td>0.000002<\/td>\n",
       "      <td>0.999991<\/td>\n",
       "    <\/tr>\n",
       "    <tr>\n",
       "      <th>7<\/th>\n",
       "      <td>8<\/td>\n",
       "      <td>0.000002<\/td>\n",
       "      <td>0.999992<\/td>\n",
       "    <\/tr>\n",
       "    <tr>\n",
       "      <th>8<\/th>\n",
       "      <td>9<\/td>\n",
       "      <td>0.000002<\/td>\n",
       "      <td>0.999994<\/td>\n",
       "    <\/tr>\n",
       "    <tr>\n",
       "      <th>9<\/th>\n",
       "      <td>10<\/td>\n",
       "      <td>0.000001<\/td>\n",
       "      <td>0.999995<\/td>\n",
       "    <\/tr>\n",
       "    <tr>\n",
       "      <th>10<\/th>\n",
       "      <td>11<\/td>\n",
       "      <td>0.000001<\/td>\n",
       "      <td>0.999996<\/td>\n",
       "    <\/tr>\n",
       "    <tr>\n",
       "      <th>11<\/th>\n",
       "      <td>12<\/td>\n",
       "      <td>0.000001<\/td>\n",
       "      <td>0.999997<\/td>\n",
       "    <\/tr>\n",
       "    <tr>\n",
       "      <th>12<\/th>\n",
       "      <td>13<\/td>\n",
       "      <td>0.000001<\/td>\n",
       "      <td>0.999998<\/td>\n",
       "    <\/tr>\n",
       "    <tr>\n",
       "      <th>13<\/th>\n",
       "      <td>14<\/td>\n",
       "      <td>0.000000<\/td>\n",
       "      <td>0.999998<\/td>\n",
       "    <\/tr>\n",
       "    <tr>\n",
       "      <th>14<\/th>\n",
       "      <td>15<\/td>\n",
       "      <td>0.000000<\/td>\n",
       "      <td>0.999999<\/td>\n",
       "    <\/tr>\n",
       "    <tr>\n",
       "      <th>15<\/th>\n",
       "      <td>16<\/td>\n",
       "      <td>0.000000<\/td>\n",
       "      <td>0.999999<\/td>\n",
       "    <\/tr>\n",
       "    <tr>\n",
       "      <th>16<\/th>\n",
       "      <td>17<\/td>\n",
       "      <td>0.000000<\/td>\n",
       "      <td>0.999999<\/td>\n",
       "    <\/tr>\n",
       "    <tr>\n",
       "      <th>17<\/th>\n",
       "      <td>18<\/td>\n",
       "      <td>0.000000<\/td>\n",
       "      <td>0.999999<\/td>\n",
       "    <\/tr>\n",
       "    <tr>\n",
       "      <th>18<\/th>\n",
       "      <td>19<\/td>\n",
       "      <td>0.000000<\/td>\n",
       "      <td>1.000000<\/td>\n",
       "    <\/tr>\n",
       "    <tr>\n",
       "      <th>19<\/th>\n",
       "      <td>20<\/td>\n",
       "      <td>0.000000<\/td>\n",
       "      <td>1.000000<\/td>\n",
       "    <\/tr>\n",
       "    <tr>\n",
       "      <th>20<\/th>\n",
       "      <td>21<\/td>\n",
       "      <td>0.000000<\/td>\n",
       "      <td>1.000000<\/td>\n",
       "    <\/tr>\n",
       "    <tr>\n",
       "      <th>21<\/th>\n",
       "      <td>22<\/td>\n",
       "      <td>0.000000<\/td>\n",
       "      <td>1.000000<\/td>\n",
       "    <\/tr>\n",
       "    <tr>\n",
       "      <th>22<\/th>\n",
       "      <td>23<\/td>\n",
       "      <td>0.000000<\/td>\n",
       "      <td>1.000000<\/td>\n",
       "    <\/tr>\n",
       "    <tr>\n",
       "      <th>23<\/th>\n",
       "      <td>24<\/td>\n",
       "      <td>0.000000<\/td>\n",
       "      <td>1.000000<\/td>\n",
       "    <\/tr>\n",
       "    <tr>\n",
       "      <th>24<\/th>\n",
       "      <td>25<\/td>\n",
       "      <td>0.000000<\/td>\n",
       "      <td>1.000000<\/td>\n",
       "    <\/tr>\n",
       "    <tr>\n",
       "      <th>25<\/th>\n",
       "      <td>26<\/td>\n",
       "      <td>0.000000<\/td>\n",
       "      <td>1.000000<\/td>\n",
       "    <\/tr>\n",
       "    <tr>\n",
       "      <th>26<\/th>\n",
       "      <td>27<\/td>\n",
       "      <td>0.000000<\/td>\n",
       "      <td>1.000000<\/td>\n",
       "    <\/tr>\n",
       "    <tr>\n",
       "      <th>27<\/th>\n",
       "      <td>28<\/td>\n",
       "      <td>0.000000<\/td>\n",
       "      <td>1.000000<\/td>\n",
       "    <\/tr>\n",
       "    <tr>\n",
       "      <th>28<\/th>\n",
       "      <td>29<\/td>\n",
       "      <td>0.000000<\/td>\n",
       "      <td>1.000000<\/td>\n",
       "    <\/tr>\n",
       "    <tr>\n",
       "      <th>29<\/th>\n",
       "      <td>30<\/td>\n",
       "      <td>0.000000<\/td>\n",
       "      <td>1.000000<\/td>\n",
       "    <\/tr>\n",
       "    <tr>\n",
       "      <th>30<\/th>\n",
       "      <td>31<\/td>\n",
       "      <td>0.000000<\/td>\n",
       "      <td>1.000000<\/td>\n",
       "    <\/tr>\n",
       "    <tr>\n",
       "      <th>31<\/th>\n",
       "      <td>32<\/td>\n",
       "      <td>0.000000<\/td>\n",
       "      <td>1.000000<\/td>\n",
       "    <\/tr>\n",
       "    <tr>\n",
       "      <th>32<\/th>\n",
       "      <td>33<\/td>\n",
       "      <td>0.000000<\/td>\n",
       "      <td>1.000000<\/td>\n",
       "    <\/tr>\n",
       "    <tr>\n",
       "      <th>33<\/th>\n",
       "      <td>34<\/td>\n",
       "      <td>0.000000<\/td>\n",
       "      <td>1.000000<\/td>\n",
       "    <\/tr>\n",
       "    <tr>\n",
       "      <th>34<\/th>\n",
       "      <td>35<\/td>\n",
       "      <td>0.000000<\/td>\n",
       "      <td>1.000000<\/td>\n",
       "    <\/tr>\n",
       "    <tr>\n",
       "      <th>35<\/th>\n",
       "      <td>36<\/td>\n",
       "      <td>0.000000<\/td>\n",
       "      <td>1.000000<\/td>\n",
       "    <\/tr>\n",
       "    <tr>\n",
       "      <th>36<\/th>\n",
       "      <td>37<\/td>\n",
       "      <td>0.000000<\/td>\n",
       "      <td>1.000000<\/td>\n",
       "    <\/tr>\n",
       "    <tr>\n",
       "      <th>37<\/th>\n",
       "      <td>38<\/td>\n",
       "      <td>0.000000<\/td>\n",
       "      <td>1.000000<\/td>\n",
       "    <\/tr>\n",
       "    <tr>\n",
       "      <th>38<\/th>\n",
       "      <td>39<\/td>\n",
       "      <td>0.000000<\/td>\n",
       "      <td>1.000000<\/td>\n",
       "    <\/tr>\n",
       "  <\/tbody>\n",
       "<\/table>\n",
       "<\/div>"
      ]
     },
     "metadata":{
      
     },
     "output_type":"display_data"
    }
   ],
   "metadata":{
    "datalore":{
     "node_id":"BsBRML3Ozyz0Oa3XjUzssb",
     "type":"CODE",
     "hide_input_from_viewers":false,
     "hide_output_from_viewers":false
    }
   }
  },
  {
   "cell_type":"code",
   "source":[
    "pca = PCA()\n",
    "X_pca = pca.fit_transform(data_scaled)\n",
    "\n",
    "# determining the number of principal components to retain based on explained variance\n",
    "\n",
    "fig, ax = plt.subplots(figsize=(10, 6))\n",
    "plt.plot(np.cumsum(pca.explained_variance_ratio_))\n",
    "plt.xlabel('Number of components')\n",
    "plt.ylabel('Cumulative explained variance')\n",
    "plt.show()\n",
    "\n",
    "# based on the plot, we can see that retaining 10 principal components explains over 90% of the variance\n",
    "# using the retained principal components as input features for further analysis\n",
    "\n",
    "pca = PCA(n_components=10)\n",
    "X_pca = pca.fit_transform(data_scaled)"
   ],
   "execution_count":360,
   "outputs":[
    {
     "data":{
      "image\/png":"[encoded data removed]"
     },
     "metadata":{
      "image\/png":{
       
      }
     },
     "output_type":"display_data"
    }
   ],
   "metadata":{
    "datalore":{
     "node_id":"DFQx0iX0Z9pbSZx0ZKzy32",
     "type":"CODE",
     "hide_input_from_viewers":false,
     "hide_output_from_viewers":false
    }
   }
  },
  {
   "cell_type":"markdown",
   "source":[
    "After applying PCA, we have reduced the input features to 10 principal components that explain over 90% of the variance. These principal components can now be used as input features for further analysis, such as clustering or classification."
   ],
   "attachments":{
    
   },
   "metadata":{
    "datalore":{
     "node_id":"Y87NNY9GPOaSyx6Fnpb0cN",
     "type":"MD",
     "hide_input_from_viewers":false,
     "hide_output_from_viewers":false
    }
   }
  },
  {
   "cell_type":"code",
   "source":[
    
   ],
   "execution_count":null,
   "outputs":[
    
   ],
   "metadata":{
    "datalore":{
     "node_id":"h5m7ZFyIwPXEvjUkSNX1en",
     "type":"CODE",
     "hide_input_from_viewers":false,
     "hide_output_from_viewers":false
    }
   }
  }
 ],
 "metadata":{
  "kernelspec":{
   "display_name":"Python",
   "language":"python",
   "name":"python"
  },
  "datalore":{
   "version":1,
   "computation_mode":"JUPYTER",
   "package_manager":"pip",
   "base_environment":"default",
   "packages":[
    {
     "name":"sklearn",
     "version":"0.0.post2",
     "source":"PIP"
    },
    {
     "name":"category-encoders",
     "version":"2.6.0",
     "source":"PIP"
    }
   ]
  }
 },
 "nbformat":4,
 "nbformat_minor":4
}